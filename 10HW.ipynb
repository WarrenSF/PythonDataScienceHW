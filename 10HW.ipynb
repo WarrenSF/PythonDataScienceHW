{
  "nbformat": 4,
  "nbformat_minor": 0,
  "metadata": {
    "colab": {
      "name": "10 Homework維元.ipynb",
      "provenance": []
    },
    "kernelspec": {
      "display_name": "Python 3",
      "language": "python",
      "name": "python3"
    },
    "language_info": {
      "codemirror_mode": {
        "name": "ipython",
        "version": 3
      },
      "file_extension": ".py",
      "mimetype": "text/x-python",
      "name": "python",
      "nbconvert_exporter": "python",
      "pygments_lexer": "ipython3",
      "version": "3.6.5"
    }
  },
  "cells": [
    {
      "cell_type": "markdown",
      "metadata": {
        "id": "P6xk2_jLsvFF"
      },
      "source": [
        "# [作業目標]\n",
        "\n",
        "1. [簡答題] 請問下列四種不同的 DataFrame 選取結果有什麼差異？\n",
        "\n",
        "```\n",
        "df.loc[ '2013-01-01', 'A'] \n",
        "df.loc[ '2013-01-01', ['A', 'B'] ] \n",
        "df.loc[ '2013-01-01':'2013-01-02', 'A' ] \n",
        "df.loc[ '2013-01-01':'2013-01-05', 'A':'C'] \n",
        "```\n",
        "\n",
        "\n",
        "2. 請根據提供的資料，選擇出下列的要求：\n",
        "\n",
        "```\n",
        "# - select the first 3 rows.\n",
        "# - select the odd rows. (index = 1, 3, 5)\n",
        "# - select the last 2 columns.\n",
        "# - select the even columns. (index = 0, 2, 4)\n",
        "```\n",
        "\n",
        "3. 請根據提供的資料，選擇出下列的要求：\n",
        "\n",
        "```\n",
        "# - 1. filtered by first column > 20?\n",
        "# - 2. filtered by first column + second column > 50\n",
        "# - 3. filtered by first column < 30 or second column > 30\n",
        "# - 4. filtered by total sum of row > 100\n",
        "```"
      ]
    },
    {
      "cell_type": "markdown",
      "metadata": {
        "id": "uXGll28asvFS"
      },
      "source": [
        "# 作業 "
      ]
    },
    {
      "cell_type": "markdown",
      "metadata": {
        "id": "WFkrsrKjFmg0"
      },
      "source": [
        "### 1. [簡答題] 請問下列四種不同的 DataFrame 選取結果有什麼差異？\n",
        "\n",
        "```\n",
        "df.loc[ '2013-01-01', 'A'] \n",
        "df.loc[ '2013-01-01', ['A', 'B'] ] \n",
        "df.loc[ '2013-01-01':'2013-01-02', 'A' ] \n",
        "df.loc[ '2013-01-01':'2013-01-05', 'A':'C'] \n",
        "```\n",
        "\n",
        "\n",
        "\n"
      ]
    },
    {
      "cell_type": "code",
      "metadata": {
        "id": "5QrYoyNWsvFS"
      },
      "source": [
        "#df.loc[ '2013-01-01', 'A']        ==> index='2013-01-01',column=A\n",
        "#df.loc[ '2013-01-01', ['A', 'B'] ]   ==> index='2013-01-01',column=A,B\n",
        "#df.loc[ '2013-01-01':'2013-01-02', 'A' ] ==> index='2013-01-01'~'2013-01-0２',column=A\n",
        "#df.loc[ '2013-01-01':'2013-01-05', 'A':'C']==> index='2013-01-01'~'2013-01-05',column=A~C"
      ],
      "execution_count": 1,
      "outputs": []
    },
    {
      "cell_type": "markdown",
      "metadata": {
        "id": "mnWB7RNmFmg1"
      },
      "source": [
        "### 2. 請根據提供的資料，選擇出下列的要求：\n",
        "\n",
        "```\n",
        "# - select the first 3 rows.\n",
        "# - select the odd rows. (index = 1, 3, 5)\n",
        "# - select the last 2 columns.\n",
        "# - select the even columns. (index = 0, 2, 4)\n",
        "```\n"
      ]
    },
    {
      "cell_type": "code",
      "metadata": {
        "id": "bF-1FS8_Fmg1"
      },
      "source": [
        "# 記得先 Import 正確的套件\n",
        "\n",
        "import numpy as np\n",
        "import pandas as pd"
      ],
      "execution_count": null,
      "outputs": []
    },
    {
      "cell_type": "code",
      "metadata": {
        "colab": {
          "base_uri": "https://localhost:8080/",
          "height": 225
        },
        "id": "e1gVI0tvsvFY",
        "outputId": "23656f83-dc62-4da5-bc0b-c03e4332e84f"
      },
      "source": [
        "df = pd.DataFrame(np.random.randn(6,3),columns=['col1','col2','col3'])\n",
        "df"
      ],
      "execution_count": 3,
      "outputs": [
        {
          "output_type": "execute_result",
          "data": {
            "text/html": [
              "<div>\n",
              "<style scoped>\n",
              "    .dataframe tbody tr th:only-of-type {\n",
              "        vertical-align: middle;\n",
              "    }\n",
              "\n",
              "    .dataframe tbody tr th {\n",
              "        vertical-align: top;\n",
              "    }\n",
              "\n",
              "    .dataframe thead th {\n",
              "        text-align: right;\n",
              "    }\n",
              "</style>\n",
              "<table border=\"1\" class=\"dataframe\">\n",
              "  <thead>\n",
              "    <tr style=\"text-align: right;\">\n",
              "      <th></th>\n",
              "      <th>col1</th>\n",
              "      <th>col2</th>\n",
              "      <th>col3</th>\n",
              "    </tr>\n",
              "  </thead>\n",
              "  <tbody>\n",
              "    <tr>\n",
              "      <th>0</th>\n",
              "      <td>-0.356473</td>\n",
              "      <td>0.416922</td>\n",
              "      <td>0.603374</td>\n",
              "    </tr>\n",
              "    <tr>\n",
              "      <th>1</th>\n",
              "      <td>1.019115</td>\n",
              "      <td>1.476556</td>\n",
              "      <td>-0.045985</td>\n",
              "    </tr>\n",
              "    <tr>\n",
              "      <th>2</th>\n",
              "      <td>-1.572632</td>\n",
              "      <td>-0.711638</td>\n",
              "      <td>2.334710</td>\n",
              "    </tr>\n",
              "    <tr>\n",
              "      <th>3</th>\n",
              "      <td>-0.034724</td>\n",
              "      <td>-1.863701</td>\n",
              "      <td>0.695593</td>\n",
              "    </tr>\n",
              "    <tr>\n",
              "      <th>4</th>\n",
              "      <td>1.099302</td>\n",
              "      <td>-0.515687</td>\n",
              "      <td>0.834540</td>\n",
              "    </tr>\n",
              "    <tr>\n",
              "      <th>5</th>\n",
              "      <td>0.094543</td>\n",
              "      <td>0.911280</td>\n",
              "      <td>-0.352525</td>\n",
              "    </tr>\n",
              "  </tbody>\n",
              "</table>\n",
              "</div>"
            ],
            "text/plain": [
              "       col1      col2      col3\n",
              "0 -0.356473  0.416922  0.603374\n",
              "1  1.019115  1.476556 -0.045985\n",
              "2 -1.572632 -0.711638  2.334710\n",
              "3 -0.034724 -1.863701  0.695593\n",
              "4  1.099302 -0.515687  0.834540\n",
              "5  0.094543  0.911280 -0.352525"
            ]
          },
          "metadata": {
            "tags": []
          },
          "execution_count": 3
        }
      ]
    },
    {
      "cell_type": "code",
      "metadata": {
        "colab": {
          "base_uri": "https://localhost:8080/"
        },
        "id": "jW-LmwGFFmg2",
        "outputId": "8def9115-7c55-4df1-87c1-2d6aba7cf138"
      },
      "source": [
        "# - select the first 3 rows.\n",
        "print(df[:3])\n",
        "# - select the odd rows. (index = 1, 3, 5)\n",
        "print(df.iloc[[1,3,5]])\n",
        "# - select the last 2 columns.\n",
        "print(df.tail(2))\n",
        "# - select the even columns. (index = 0, 2, 4)\n",
        "print(df.iloc[lambda x: x.index % 2 == 0])\n"
      ],
      "execution_count": 14,
      "outputs": [
        {
          "output_type": "stream",
          "text": [
            "       col1      col2      col3\n",
            "0 -0.356473  0.416922  0.603374\n",
            "1  1.019115  1.476556 -0.045985\n",
            "2 -1.572632 -0.711638  2.334710\n",
            "       col1      col2      col3\n",
            "1  1.019115  1.476556 -0.045985\n",
            "3 -0.034724 -1.863701  0.695593\n",
            "5  0.094543  0.911280 -0.352525\n",
            "       col1      col2      col3\n",
            "4  1.099302 -0.515687  0.834540\n",
            "5  0.094543  0.911280 -0.352525\n",
            "       col1      col2      col3\n",
            "0 -0.356473  0.416922  0.603374\n",
            "2 -1.572632 -0.711638  2.334710\n",
            "4  1.099302 -0.515687  0.834540\n"
          ],
          "name": "stdout"
        }
      ]
    },
    {
      "cell_type": "markdown",
      "metadata": {
        "id": "7yVOKE9RFmg2"
      },
      "source": [
        "### 3. 請根據提供的資料，選擇出下列的要求：\n",
        "\n",
        "```\n",
        "# - 1. filtered by first column > 20?\n",
        "# - 2. filtered by first column + second column > 50\n",
        "# - 3. filtered by first column < 30 or second column > 30\n",
        "# - 4. filtered by total sum of row > 100\n",
        "```"
      ]
    },
    {
      "cell_type": "code",
      "metadata": {
        "colab": {
          "base_uri": "https://localhost:8080/",
          "height": 491
        },
        "id": "H-4gppKYFmg3",
        "outputId": "bdfe9797-0b52-4221-e319-c47e2c93043f"
      },
      "source": [
        "df = pd.DataFrame(np.random.randint(10, 40, 60).reshape(-1, 4))\n",
        "df"
      ],
      "execution_count": 15,
      "outputs": [
        {
          "output_type": "execute_result",
          "data": {
            "text/html": [
              "<div>\n",
              "<style scoped>\n",
              "    .dataframe tbody tr th:only-of-type {\n",
              "        vertical-align: middle;\n",
              "    }\n",
              "\n",
              "    .dataframe tbody tr th {\n",
              "        vertical-align: top;\n",
              "    }\n",
              "\n",
              "    .dataframe thead th {\n",
              "        text-align: right;\n",
              "    }\n",
              "</style>\n",
              "<table border=\"1\" class=\"dataframe\">\n",
              "  <thead>\n",
              "    <tr style=\"text-align: right;\">\n",
              "      <th></th>\n",
              "      <th>0</th>\n",
              "      <th>1</th>\n",
              "      <th>2</th>\n",
              "      <th>3</th>\n",
              "    </tr>\n",
              "  </thead>\n",
              "  <tbody>\n",
              "    <tr>\n",
              "      <th>0</th>\n",
              "      <td>27</td>\n",
              "      <td>30</td>\n",
              "      <td>21</td>\n",
              "      <td>36</td>\n",
              "    </tr>\n",
              "    <tr>\n",
              "      <th>1</th>\n",
              "      <td>25</td>\n",
              "      <td>24</td>\n",
              "      <td>14</td>\n",
              "      <td>35</td>\n",
              "    </tr>\n",
              "    <tr>\n",
              "      <th>2</th>\n",
              "      <td>30</td>\n",
              "      <td>19</td>\n",
              "      <td>10</td>\n",
              "      <td>27</td>\n",
              "    </tr>\n",
              "    <tr>\n",
              "      <th>3</th>\n",
              "      <td>26</td>\n",
              "      <td>38</td>\n",
              "      <td>20</td>\n",
              "      <td>12</td>\n",
              "    </tr>\n",
              "    <tr>\n",
              "      <th>4</th>\n",
              "      <td>38</td>\n",
              "      <td>33</td>\n",
              "      <td>37</td>\n",
              "      <td>17</td>\n",
              "    </tr>\n",
              "    <tr>\n",
              "      <th>5</th>\n",
              "      <td>19</td>\n",
              "      <td>13</td>\n",
              "      <td>35</td>\n",
              "      <td>18</td>\n",
              "    </tr>\n",
              "    <tr>\n",
              "      <th>6</th>\n",
              "      <td>10</td>\n",
              "      <td>32</td>\n",
              "      <td>25</td>\n",
              "      <td>33</td>\n",
              "    </tr>\n",
              "    <tr>\n",
              "      <th>7</th>\n",
              "      <td>33</td>\n",
              "      <td>11</td>\n",
              "      <td>19</td>\n",
              "      <td>19</td>\n",
              "    </tr>\n",
              "    <tr>\n",
              "      <th>8</th>\n",
              "      <td>32</td>\n",
              "      <td>20</td>\n",
              "      <td>37</td>\n",
              "      <td>30</td>\n",
              "    </tr>\n",
              "    <tr>\n",
              "      <th>9</th>\n",
              "      <td>10</td>\n",
              "      <td>36</td>\n",
              "      <td>16</td>\n",
              "      <td>36</td>\n",
              "    </tr>\n",
              "    <tr>\n",
              "      <th>10</th>\n",
              "      <td>29</td>\n",
              "      <td>27</td>\n",
              "      <td>16</td>\n",
              "      <td>26</td>\n",
              "    </tr>\n",
              "    <tr>\n",
              "      <th>11</th>\n",
              "      <td>16</td>\n",
              "      <td>23</td>\n",
              "      <td>19</td>\n",
              "      <td>36</td>\n",
              "    </tr>\n",
              "    <tr>\n",
              "      <th>12</th>\n",
              "      <td>32</td>\n",
              "      <td>38</td>\n",
              "      <td>11</td>\n",
              "      <td>12</td>\n",
              "    </tr>\n",
              "    <tr>\n",
              "      <th>13</th>\n",
              "      <td>11</td>\n",
              "      <td>17</td>\n",
              "      <td>39</td>\n",
              "      <td>14</td>\n",
              "    </tr>\n",
              "    <tr>\n",
              "      <th>14</th>\n",
              "      <td>31</td>\n",
              "      <td>32</td>\n",
              "      <td>25</td>\n",
              "      <td>21</td>\n",
              "    </tr>\n",
              "  </tbody>\n",
              "</table>\n",
              "</div>"
            ],
            "text/plain": [
              "     0   1   2   3\n",
              "0   27  30  21  36\n",
              "1   25  24  14  35\n",
              "2   30  19  10  27\n",
              "3   26  38  20  12\n",
              "4   38  33  37  17\n",
              "5   19  13  35  18\n",
              "6   10  32  25  33\n",
              "7   33  11  19  19\n",
              "8   32  20  37  30\n",
              "9   10  36  16  36\n",
              "10  29  27  16  26\n",
              "11  16  23  19  36\n",
              "12  32  38  11  12\n",
              "13  11  17  39  14\n",
              "14  31  32  25  21"
            ]
          },
          "metadata": {
            "tags": []
          },
          "execution_count": 15
        }
      ]
    },
    {
      "cell_type": "code",
      "metadata": {
        "colab": {
          "base_uri": "https://localhost:8080/"
        },
        "id": "IzK6CSzkFmg3",
        "outputId": "c1feea0c-921f-4e0d-fa2e-ab6a0cf6c84e"
      },
      "source": [
        "# - 1. filtered by first column > 20?\n",
        "print(df[df[0]>20])\n",
        "# - 2. filtered by first column + second column > 50\n",
        "print(df[df[0]+df[1]>50])\n",
        "# - 3. filtered by first column < 30 or second column > 30\n",
        "print(df[(df[0] < 30) & (df[1] > 30)])\n",
        "# - 4. filtered by total sum of row > 100\n",
        "print(df[df.sum(axis=1)>100])"
      ],
      "execution_count": 44,
      "outputs": [
        {
          "output_type": "stream",
          "text": [
            "     0   1   2   3\n",
            "0   27  30  21  36\n",
            "1   25  24  14  35\n",
            "2   30  19  10  27\n",
            "3   26  38  20  12\n",
            "4   38  33  37  17\n",
            "7   33  11  19  19\n",
            "8   32  20  37  30\n",
            "10  29  27  16  26\n",
            "12  32  38  11  12\n",
            "14  31  32  25  21\n",
            "     0   1   2   3\n",
            "0   27  30  21  36\n",
            "3   26  38  20  12\n",
            "4   38  33  37  17\n",
            "8   32  20  37  30\n",
            "10  29  27  16  26\n",
            "12  32  38  11  12\n",
            "14  31  32  25  21\n",
            "    0   1   2   3\n",
            "3  26  38  20  12\n",
            "6  10  32  25  33\n",
            "9  10  36  16  36\n",
            "     0   1   2   3\n",
            "0   27  30  21  36\n",
            "4   38  33  37  17\n",
            "8   32  20  37  30\n",
            "14  31  32  25  21\n"
          ],
          "name": "stdout"
        }
      ]
    },
    {
      "cell_type": "code",
      "metadata": {
        "id": "FqVd9ZYUFmg3"
      },
      "source": [
        ""
      ],
      "execution_count": null,
      "outputs": []
    },
    {
      "cell_type": "code",
      "metadata": {
        "id": "WujPUOcpFmg3"
      },
      "source": [
        ""
      ],
      "execution_count": null,
      "outputs": []
    },
    {
      "cell_type": "code",
      "metadata": {
        "id": "jk2gqJzAFmg3"
      },
      "source": [
        ""
      ],
      "execution_count": null,
      "outputs": []
    }
  ]
}