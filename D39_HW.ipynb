{
  "nbformat": 4,
  "nbformat_minor": 0,
  "metadata": {
    "colab": {
      "name": "作業.ipynb",
      "provenance": []
    },
    "kernelspec": {
      "display_name": "Python 3",
      "language": "python",
      "name": "python3"
    },
    "language_info": {
      "codemirror_mode": {
        "name": "ipython",
        "version": 3
      },
      "file_extension": ".py",
      "mimetype": "text/x-python",
      "name": "python",
      "nbconvert_exporter": "python",
      "pygments_lexer": "ipython3",
      "version": "3.6.10"
    }
  },
  "cells": [
    {
      "cell_type": "markdown",
      "metadata": {
        "id": "QaFwqkQyE8GE"
      },
      "source": [
        "## 作業\n",
        "在鐵達尼資料集中，今天我們專注觀察變數之間的相關性，以Titanic_train.csv 中，首先將有遺失值的數值刪除，並回答下列問題。\n",
        "* Q1: 透過數值法計算  Age 和  Survived  是否有相關性?\n",
        "* Q2:透過數值法計算  Sex 和 Survived  是否有相關性?\n",
        "* Q3: 透過數值法計算  Age 和  Fare 是否有相關性?   \n",
        "* 提示:    \n",
        "1.產稱一個新的變數 Survived_cate ，資料型態傳換成類別型態      \n",
        "2.把題目中的 Survived 用 Survived_cate 來做分析       \n",
        "3.首先觀察一下這些變數的資料型態後，再來想要以哪一種判斷倆倆的相關性。     \n"
      ]
    },
    {
      "cell_type": "code",
      "metadata": {
        "id": "yz28_IgkYdBW",
        "colab": {
          "base_uri": "https://localhost:8080/"
        },
        "outputId": "e0a81d72-5fef-4d22-cff7-5ded88759be5"
      },
      "source": [
        "# import library\n",
        "import matplotlib.pyplot as plt\n",
        "import numpy as np\n",
        "import pandas as pd\n",
        "from scipy import stats\n",
        "import math\n",
        "import statistics\n",
        "import seaborn as sns\n",
        "from IPython.display import display\n",
        "\n",
        "import pingouin as pg\n",
        "import researchpy   \n",
        "%matplotlib inline"
      ],
      "execution_count": 2,
      "outputs": [
        {
          "output_type": "stream",
          "text": [
            "/usr/local/lib/python3.7/dist-packages/statsmodels/tools/_testing.py:19: FutureWarning: pandas.util.testing is deprecated. Use the functions in the public API at pandas.testing instead.\n",
            "  import pandas.util.testing as tm\n"
          ],
          "name": "stderr"
        }
      ]
    },
    {
      "cell_type": "markdown",
      "metadata": {
        "id": "M6YWLLdqE8GI"
      },
      "source": [
        "## 讀入資料"
      ]
    },
    {
      "cell_type": "code",
      "metadata": {
        "id": "TnU74t6BE8GI",
        "colab": {
          "base_uri": "https://localhost:8080/"
        },
        "outputId": "ab3f265f-68e0-47b3-90af-dcbdf56853bb"
      },
      "source": [
        "df_train = pd.read_csv(\"Titanic_train.csv\")\n",
        "print(df_train.info())"
      ],
      "execution_count": 3,
      "outputs": [
        {
          "output_type": "stream",
          "text": [
            "<class 'pandas.core.frame.DataFrame'>\n",
            "RangeIndex: 891 entries, 0 to 890\n",
            "Data columns (total 12 columns):\n",
            " #   Column       Non-Null Count  Dtype  \n",
            "---  ------       --------------  -----  \n",
            " 0   PassengerId  891 non-null    int64  \n",
            " 1   Survived     891 non-null    int64  \n",
            " 2   Pclass       891 non-null    int64  \n",
            " 3   Name         891 non-null    object \n",
            " 4   Sex          891 non-null    object \n",
            " 5   Age          714 non-null    float64\n",
            " 6   SibSp        891 non-null    int64  \n",
            " 7   Parch        891 non-null    int64  \n",
            " 8   Ticket       891 non-null    object \n",
            " 9   Fare         891 non-null    float64\n",
            " 10  Cabin        204 non-null    object \n",
            " 11  Embarked     889 non-null    object \n",
            "dtypes: float64(2), int64(5), object(5)\n",
            "memory usage: 83.7+ KB\n",
            "None\n"
          ],
          "name": "stdout"
        }
      ]
    },
    {
      "cell_type": "code",
      "metadata": {
        "id": "cITJCaELE8GK",
        "colab": {
          "base_uri": "https://localhost:8080/"
        },
        "outputId": "a3492951-d56e-45a5-8ea1-0e5b846797c2"
      },
      "source": [
        "## 這邊我們做一個調整，把 Survived 變成離散型變數 Survived_cate\n",
        "df_train['Survived_cate'] = df_train['Survived'].astype('object')\n",
        "print(df_train.info())"
      ],
      "execution_count": 4,
      "outputs": [
        {
          "output_type": "stream",
          "text": [
            "<class 'pandas.core.frame.DataFrame'>\n",
            "RangeIndex: 891 entries, 0 to 890\n",
            "Data columns (total 13 columns):\n",
            " #   Column         Non-Null Count  Dtype  \n",
            "---  ------         --------------  -----  \n",
            " 0   PassengerId    891 non-null    int64  \n",
            " 1   Survived       891 non-null    int64  \n",
            " 2   Pclass         891 non-null    int64  \n",
            " 3   Name           891 non-null    object \n",
            " 4   Sex            891 non-null    object \n",
            " 5   Age            714 non-null    float64\n",
            " 6   SibSp          891 non-null    int64  \n",
            " 7   Parch          891 non-null    int64  \n",
            " 8   Ticket         891 non-null    object \n",
            " 9   Fare           891 non-null    float64\n",
            " 10  Cabin          204 non-null    object \n",
            " 11  Embarked       889 non-null    object \n",
            " 12  Survived_cate  891 non-null    object \n",
            "dtypes: float64(2), int64(5), object(6)\n",
            "memory usage: 90.6+ KB\n",
            "None\n"
          ],
          "name": "stdout"
        }
      ]
    },
    {
      "cell_type": "markdown",
      "metadata": {
        "id": "YN-BISG4E8GM"
      },
      "source": [
        "###  Q1: 透過數值法計算  Age 和  Survived  是否有相關性?\n"
      ]
    },
    {
      "cell_type": "code",
      "metadata": {
        "id": "yaFSemhUdXbl"
      },
      "source": [
        "#離散 vs 連續 Eta Squared(η2)\n",
        "#!pip install pingouin\n",
        "import pingouin as pg"
      ],
      "execution_count": null,
      "outputs": []
    },
    {
      "cell_type": "code",
      "metadata": {
        "colab": {
          "base_uri": "https://localhost:8080/"
        },
        "id": "P2-feBC4bcFY",
        "outputId": "33db59fe-6234-4057-ca85-00474d652aca"
      },
      "source": [
        "#Step1: 取出Survived和Age資料\n",
        "#Step2:運用 pg.anova 計算三種變異數\n",
        "aov = pg.anova(dv='Age', between='Survived_cate', data=df_train, detailed=True)\n",
        "\n",
        "#Step3:變異數換算得到 Eta Squared (𝜼^𝟐)\n",
        "etaSq = aov.SS[0] / (aov.SS[0] + aov.SS[1])"
      ],
      "execution_count": 7,
      "outputs": [
        {
          "output_type": "execute_result",
          "data": {
            "text/plain": [
              "0.0059630974469252"
            ]
          },
          "metadata": {
            "tags": []
          },
          "execution_count": 7
        }
      ]
    },
    {
      "cell_type": "code",
      "metadata": {
        "colab": {
          "base_uri": "https://localhost:8080/",
          "height": 35
        },
        "id": "baFf777eccLi",
        "outputId": "4aa2c19d-550b-4e44-beba-fd314dc14bd6"
      },
      "source": [
        "def judgment_etaSq(etaSq):\n",
        "    if etaSq < .01:\n",
        "        qual = 'Negligible'\n",
        "    elif etaSq < .06:\n",
        "        qual = 'Small'\n",
        "    elif etaSq < .14:\n",
        "        qual = 'Medium'\n",
        "    else:\n",
        "        qual = 'Large'\n",
        "    return(qual)\n",
        "judgment_etaSq(etaSq)\n",
        "# Ans:無相關性"
      ],
      "execution_count": 11,
      "outputs": [
        {
          "output_type": "execute_result",
          "data": {
            "application/vnd.google.colaboratory.intrinsic+json": {
              "type": "string"
            },
            "text/plain": [
              "'Negligible'"
            ]
          },
          "metadata": {
            "tags": []
          },
          "execution_count": 11
        }
      ]
    },
    {
      "cell_type": "markdown",
      "metadata": {
        "id": "8dlu8RnNE8GN"
      },
      "source": [
        "### Q2:透過數值法計算  Sex 和 Survived  是否有相關性?\n"
      ]
    },
    {
      "cell_type": "code",
      "metadata": {
        "id": "42hoNx19c_hc"
      },
      "source": [
        "#離散 vs 離散\n",
        "#本範例透過 Cramér's V ，看Sex 和 Survived 相關性\n",
        "#!pip install researchpy\n",
        "import researchpy"
      ],
      "execution_count": null,
      "outputs": []
    },
    {
      "cell_type": "code",
      "metadata": {
        "colab": {
          "base_uri": "https://localhost:8080/"
        },
        "id": "PmJEQhm4d-B3",
        "outputId": "6b4e00ea-8ef5-447c-d7b0-7d24480e8e11"
      },
      "source": [
        "#用交叉列連表(contingency table)，來整理兩個類別型的資料\n",
        "contTable = pd.crosstab(df_train['Sex'], df_train['Survived_cate'])\n",
        "\n",
        "#計算資料自由度 df*\n",
        "df = min(contTable.shape[0], contTable.shape[1]) - 1\n",
        "\n",
        "#運用 researchpy 套件，計算出 Cramer’s V 係數\n",
        "crosstab, res = researchpy.crosstab(df_train['Sex'], df_train['Survived_cate'], test='chi-square')\n",
        "print(res)\n",
        "print(\"Cramer's value is\",res.loc[2,'results'])\n"
      ],
      "execution_count": 12,
      "outputs": [
        {
          "output_type": "stream",
          "text": [
            "                Chi-square test   results\n",
            "0  Pearson Chi-square ( 1.0) =   263.0506\n",
            "1                    p-value =     0.0000\n",
            "2               Cramer's phi =     0.5434\n",
            "Cramer's value is 0.5434\n"
          ],
          "name": "stdout"
        }
      ]
    },
    {
      "cell_type": "code",
      "metadata": {
        "colab": {
          "base_uri": "https://localhost:8080/",
          "height": 35
        },
        "id": "3Fi_Ry0bfG9L",
        "outputId": "7696fdef-b368-4327-92ff-8a8c745b0468"
      },
      "source": [
        "## 寫一個副程式判斷相關性的強度\n",
        "def judgment_CramerV(df,V):\n",
        "    if df == 1:\n",
        "        if V < 0.10:\n",
        "            qual = 'negligible'\n",
        "        elif V < 0.30:\n",
        "            qual = 'small'\n",
        "        elif V < 0.50:\n",
        "            qual = 'medium'\n",
        "        else:\n",
        "            qual = 'large'\n",
        "    elif df == 2:\n",
        "        if V < 0.07:\n",
        "            qual = 'negligible'\n",
        "        elif V < 0.21:\n",
        "            qual = 'small'\n",
        "        elif V < 0.35:\n",
        "            qual = 'medium'\n",
        "        else:\n",
        "            qual = 'large'\n",
        "    elif df == 3:\n",
        "        if V < 0.06:\n",
        "            qual = 'negligible'\n",
        "        elif V < 0.17:\n",
        "            qual = 'small'\n",
        "        elif V < 0.29:\n",
        "            qual = 'medium'\n",
        "        else:\n",
        "            qual = 'large'\n",
        "    elif df == 4:\n",
        "        if V < 0.05:\n",
        "            qual = 'negligible'\n",
        "        elif V < 0.15:\n",
        "            qual = 'small'\n",
        "        elif V < 0.25:\n",
        "            qual = 'medium'\n",
        "        else:\n",
        "            qual = 'large'\n",
        "    else:\n",
        "        if V < 0.05:\n",
        "            qual = 'negligible'\n",
        "        elif V < 0.13:\n",
        "            qual = 'small'\n",
        "        elif V < 0.22:\n",
        "            qual = 'medium'\n",
        "        else:\n",
        "            qual = 'large'\n",
        "    return(qual)\n",
        "\n",
        "judgment_CramerV(df,res.loc[2,'results'])\n",
        "\n",
        "# Ans:極度高相關"
      ],
      "execution_count": 13,
      "outputs": [
        {
          "output_type": "execute_result",
          "data": {
            "application/vnd.google.colaboratory.intrinsic+json": {
              "type": "string"
            },
            "text/plain": [
              "'large'"
            ]
          },
          "metadata": {
            "tags": []
          },
          "execution_count": 13
        }
      ]
    },
    {
      "cell_type": "markdown",
      "metadata": {
        "id": "6SxLGI6sE8GN"
      },
      "source": [
        "### Q3: 透過數值法計算  Age 和  Fare 是否有相關性?  "
      ]
    },
    {
      "cell_type": "code",
      "metadata": {
        "colab": {
          "base_uri": "https://localhost:8080/"
        },
        "id": "B7g6ryAUfajj",
        "outputId": "56360758-81a6-4f44-db43-919be47e97cf"
      },
      "source": [
        "#連續 vs 連續\n",
        "# 由於 pearsonr 有兩個回傳結果，我們只需取第一個回傳值為相關係數--首先將有遺失值的數值刪除\n",
        "corr, _=stats.pearsonr(df_train[~df_train['Age'].isnull()]['Age'], df_train[~df_train['Age'].isnull()]['Fare'])\n",
        "print(corr)\n",
        "# Ans: corr<0.1 無線性相關"
      ],
      "execution_count": 16,
      "outputs": [
        {
          "output_type": "stream",
          "text": [
            "0.09606669176903888\n"
          ],
          "name": "stdout"
        }
      ]
    },
    {
      "cell_type": "code",
      "metadata": {
        "colab": {
          "base_uri": "https://localhost:8080/",
          "height": 279
        },
        "id": "a0me4MDBgZLN",
        "outputId": "35cfb56a-eb69-49a5-a742-44dbbe58ce89"
      },
      "source": [
        "g = sns.regplot(x=\"Age\", y=\"Fare\", color=\"g\",data=df_train)"
      ],
      "execution_count": 17,
      "outputs": [
        {
          "output_type": "display_data",
          "data": {
            "image/png": "[encoded data removed]",
            "text/plain": [
              "<Figure size 432x288 with 1 Axes>"
            ]
          },
          "metadata": {
            "tags": [],
            "needs_background": "light"
          }
        }
      ]
    }
  ]
}