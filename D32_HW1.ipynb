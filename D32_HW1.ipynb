{
  "nbformat": 4,
  "nbformat_minor": 0,
  "metadata": {
    "colab": {
      "name": "D32作業.ipynb",
      "provenance": []
    },
    "kernelspec": {
      "display_name": "Python 3",
      "language": "python",
      "name": "python3"
    },
    "language_info": {
      "codemirror_mode": {
        "name": "ipython",
        "version": 3
      },
      "file_extension": ".py",
      "mimetype": "text/x-python",
      "name": "python",
      "nbconvert_exporter": "python",
      "pygments_lexer": "ipython3",
      "version": "3.6.1"
    }
  },
  "cells": [
    {
      "cell_type": "markdown",
      "metadata": {
        "id": "DORbc8T1hQGf"
      },
      "source": [
        "## 作業:\n",
        "今天學到 AB test中假設檢定的基本概念，最重要的就是如何將抽象情況數值化，\n",
        "並建立自已的 $H_0$ 與 $H_1$。\n",
        "透過作業來好好練習，概念懂了，後面幾堂課再帶大家運用 python 進行運算。\n"
      ]
    },
    {
      "cell_type": "markdown",
      "metadata": {
        "id": "c9OA_lmhhQGl"
      },
      "source": [
        "### Q1: 吃減肥藥能在一個月內瘦超過十公斤，研究人員想推翻第四台廣告業者的說法，請試著寫出 $H_0$ 與 $H_1$ 。\n"
      ]
    },
    {
      "cell_type": "code",
      "metadata": {
        "colab": {
          "base_uri": "https://localhost:8080/",
          "height": 35
        },
        "id": "CP0VzP9UhQGm",
        "outputId": "4f98a872-7b27-420c-a3d9-110ac78b15c0"
      },
      "source": [
        "#Q1: 吃減肥藥能在一個月內瘦超過十公斤，研究人員想推翻第四台廣告業者的說法，請試著寫出 $H_0$ 與 $H_1$\n",
        "'''\n",
        "你的答案: H0:吃減肥藥能在一個月內瘦超過十公斤  (X>10)\n",
        "     H1:吃減肥藥不能在一個月內瘦超過十公斤 (X<=10)\n",
        "'''"
      ],
      "execution_count": 5,
      "outputs": [
        {
          "output_type": "execute_result",
          "data": {
            "application/vnd.google.colaboratory.intrinsic+json": {
              "type": "string"
            },
            "text/plain": [
              "'\\n你的答案: H0:吃減肥藥能在一個月內瘦超過十公斤  (X>10)\\n     H1:吃減肥藥不能在一個月內瘦超過十公斤 (X<=10)\\n'"
            ]
          },
          "metadata": {
            "tags": []
          },
          "execution_count": 5
        }
      ]
    },
    {
      "cell_type": "markdown",
      "metadata": {
        "id": "nXHXKYfbhQGn"
      },
      "source": [
        "### Q2: 一位速食店店長認為其品牌在市場之佔有率至多為12%，於是該店長進行一個市場調查，一共訪問了3000為消費者，其中有311位表示喜歡該品牌，請試著寫出 $H_0$ 與 $H_1$ 。\n"
      ]
    },
    {
      "cell_type": "code",
      "metadata": {
        "colab": {
          "base_uri": "https://localhost:8080/",
          "height": 35
        },
        "id": "gmH01eLghQGn",
        "outputId": "59eb2cbc-6978-470b-be32-a1ebce22e9af"
      },
      "source": [
        "#Q2: 一位速食店店長認為其品牌在市場之佔有率至多為12%，於是該店長進行一個市場調查，一共訪問了3000為消費者，其中有311位表示喜歡該品牌，請試著寫出 $H_0$ 與 $H_1$ 。\n",
        "'''\n",
        "你的答案: H0:品牌在市場之佔有率超過12% (X>12%)\n",
        "     H1:品牌在市場之佔有率至多為12% (X<=12%)\n",
        "'''"
      ],
      "execution_count": 3,
      "outputs": [
        {
          "output_type": "execute_result",
          "data": {
            "application/vnd.google.colaboratory.intrinsic+json": {
              "type": "string"
            },
            "text/plain": [
              "'\\n你的答案: H0:品牌在市場之佔有率超過12% (X>12%)\\n     H1:品牌在市場之佔有率至多為12% (X<=12%)\\n'"
            ]
          },
          "metadata": {
            "tags": []
          },
          "execution_count": 3
        }
      ]
    }
  ]
}