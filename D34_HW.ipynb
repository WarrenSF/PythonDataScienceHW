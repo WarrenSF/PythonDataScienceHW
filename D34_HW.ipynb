{
  "nbformat": 4,
  "nbformat_minor": 0,
  "metadata": {
    "colab": {
      "name": "D34作業.ipynb",
      "provenance": []
    },
    "kernelspec": {
      "display_name": "Python 3",
      "language": "python",
      "name": "python3"
    },
    "language_info": {
      "codemirror_mode": {
        "name": "ipython",
        "version": 3
      },
      "file_extension": ".py",
      "mimetype": "text/x-python",
      "name": "python",
      "nbconvert_exporter": "python",
      "pygments_lexer": "ipython3",
      "version": "3.6.1"
    }
  },
  "cells": [
    {
      "cell_type": "markdown",
      "metadata": {
        "id": "Yv4jClImMmB4"
      },
      "source": [
        "## 作業:\n",
        "某工廠想知道兩條不同的生產線的產品不良率是否有所不同，由兩條生產線中各抽取 300 個樣本，第一組有  75 個不良品，第二組有 30 個不良品，我們可以宣稱生產線所生產出的產品不良率不相同? (以 0.05 為顯著水準)?    \n",
        "(提示:透過課程投影片的步驟，需思考 𝐻_0、 𝐻_1 的寫法和範例不同唷。)   \n",
        "\n"
      ]
    },
    {
      "cell_type": "code",
      "metadata": {
        "collapsed": true,
        "id": "yz28_IgkYdBW"
      },
      "source": [
        "# library\n",
        "import matplotlib.pyplot as plt\n",
        "import numpy as np\n",
        "import pandas as pd\n",
        "from scipy import stats\n",
        "import math\n",
        "import statistics\n",
        "import seaborn as sns"
      ],
      "execution_count": null,
      "outputs": []
    },
    {
      "cell_type": "code",
      "metadata": {
        "colab": {
          "base_uri": "https://localhost:8080/"
        },
        "id": "CeN0ykNvMmB_",
        "outputId": "f478b996-3f28-43af-b020-00115eec73bb"
      },
      "source": [
        "'''\n",
        "H0: p1=p2 產品不良率相同\n",
        "H1: p1≠p2 產品不良率不相同\n",
        "此為雙尾檢定\n",
        "'''\n",
        "\n",
        "import statsmodels.stats.proportion\n",
        "A = [75,30] # 不良品的個數\n",
        "B = [300,300] #各組實驗總個數\n",
        "r=statsmodels.stats.proportion.proportions_ztest(A, B, alternative='two-sided')\n",
        "print(\"Z-test: \", r[0])\n",
        "print(\"P-value: \", r[1])\n",
        "\n",
        "#output(Z value, p-value)   p>0.05,因此拒絕H0,所以可以說產品不良率不相同"
      ],
      "execution_count": 4,
      "outputs": [
        {
          "output_type": "stream",
          "text": [
            "Z-test:  4.834937784152282\n",
            "P-value:  1.3318728439003627e-06\n"
          ],
          "name": "stdout"
        }
      ]
    }
  ]
}