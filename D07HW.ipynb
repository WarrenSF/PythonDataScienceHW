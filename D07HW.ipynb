{
  "nbformat": 4,
  "nbformat_minor": 0,
  "metadata": {
    "colab": {
      "name": "D07作業題目.ipynb",
      "provenance": [],
      "collapsed_sections": []
    },
    "kernelspec": {
      "name": "python3",
      "display_name": "Python 3"
    }
  },
  "cells": [
    {
      "cell_type": "code",
      "metadata": {
        "id": "g7_Zhb9Bif-K"
      },
      "source": [
        ""
      ],
      "execution_count": null,
      "outputs": []
    },
    {
      "cell_type": "markdown",
      "metadata": {
        "id": "GLhLqOtlj1fc"
      },
      "source": [
        "作業目標<br>\n",
        "活用矩陣運算，實做線性代數<br>\n",
        "作業重點<br>\n",
        "線性代數公式應用<br>\n",
        "矩陣相乘維度需要對好，例如:2X3矩陣乘上3X5矩陣得到2X5矩陣"
      ]
    },
    {
      "cell_type": "markdown",
      "metadata": {
        "id": "Rq6NRNxLj4w1"
      },
      "source": [
        "題目:<br>\n",
        "array1 = np.array([[10, 8], [3, 5]]) <br>\n",
        "1. 運用上列array計算反矩陣，乘上原矩陣，並觀察是否為單位矩陣?\n",
        "2. 運用上列array計算特徵值、特徵向量?\n",
        "3. 運用上列array計算SVD?"
      ]
    },
    {
      "cell_type": "code",
      "metadata": {
        "id": "YakNatIPj3CW"
      },
      "source": [
        "import numpy as np"
      ],
      "execution_count": 1,
      "outputs": []
    },
    {
      "cell_type": "code",
      "metadata": {
        "id": "QT4ntMV1kR1c",
        "colab": {
          "base_uri": "https://localhost:8080/"
        },
        "outputId": "10bc6322-5875-4a84-ecf8-fa465f91a8d1"
      },
      "source": [
        "#1. 運用上列array計算反矩陣，乘上原矩陣，並觀察是否為單位矩陣?\n",
        "array1 = np.array([[10, 8], [3, 5]])\n",
        "np.dot(np.linalg.inv(array1),array1)\n"
      ],
      "execution_count": 18,
      "outputs": [
        {
          "output_type": "execute_result",
          "data": {
            "text/plain": [
              "array([[ 1.00000000e+00, -5.55111512e-17],\n",
              "       [-1.11022302e-16,  1.00000000e+00]])"
            ]
          },
          "metadata": {
            "tags": []
          },
          "execution_count": 18
        }
      ]
    },
    {
      "cell_type": "code",
      "metadata": {
        "id": "9f7cVxwwk-y9",
        "colab": {
          "base_uri": "https://localhost:8080/"
        },
        "outputId": "57f9bfb3-76f2-4bdc-8abe-68cbc87a84f0"
      },
      "source": [
        "#2. 運用上列array計算特徵值、特徵向量?\n",
        "w, v = np.linalg.eig(array1)\n",
        "print(\"特徵值:\",w)\n",
        "print(\"特徵向量:\",v)"
      ],
      "execution_count": 14,
      "outputs": [
        {
          "output_type": "stream",
          "text": [
            "特徵值: [13.  2.]\n",
            "特徵向量: [[ 0.93632918 -0.70710678]\n",
            " [ 0.35112344  0.70710678]]\n"
          ],
          "name": "stdout"
        }
      ]
    },
    {
      "cell_type": "code",
      "metadata": {
        "id": "OHSs5etxnL8D",
        "colab": {
          "base_uri": "https://localhost:8080/"
        },
        "outputId": "6de1a26f-112d-4bcc-d863-2cfdbc4f6512"
      },
      "source": [
        "#3. 運用上列array計算SVD?\n",
        "u, s, vh = np.linalg.svd(array1)\n",
        "print(\"U:\",u)\n",
        "print(\"S:\",s)\n",
        "print(\"V:\",vh)"
      ],
      "execution_count": 15,
      "outputs": [
        {
          "output_type": "stream",
          "text": [
            "U: [[-0.91663818 -0.39971796]\n",
            " [-0.39971796  0.91663818]]\n",
            "S: [13.94721714  1.86417116]\n",
            "V: [[-0.74319741 -0.6690722 ]\n",
            " [-0.6690722   0.74319741]]\n"
          ],
          "name": "stdout"
        }
      ]
    },
    {
      "cell_type": "code",
      "metadata": {
        "id": "5BaVZFRvpXZo"
      },
      "source": [
        ""
      ],
      "execution_count": null,
      "outputs": []
    }
  ]
}