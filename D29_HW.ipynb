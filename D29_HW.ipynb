{
  "nbformat": 4,
  "nbformat_minor": 0,
  "metadata": {
    "colab": {
      "name": "作業 (1).ipynb",
      "provenance": []
    },
    "kernelspec": {
      "display_name": "Python 3",
      "language": "python",
      "name": "python3"
    },
    "language_info": {
      "codemirror_mode": {
        "name": "ipython",
        "version": 3
      },
      "file_extension": ".py",
      "mimetype": "text/x-python",
      "name": "python",
      "nbconvert_exporter": "python",
      "pygments_lexer": "ipython3",
      "version": "3.6.1"
    }
  },
  "cells": [
    {
      "cell_type": "markdown",
      "metadata": {
        "id": "Bqri4RXGzu65"
      },
      "source": [
        "## 作業:\n",
        "今天學到五種分配，包含，   \n",
        "離散均勻分配( Discrete Uniform Distribution )   \n",
        "伯努利分配( Bernoulli Distribution )   \n",
        "二項分配(Binomial Distribution)  \n",
        "負二項分配(Negative Binomial Distribution)  \n",
        "超幾何分配(Hypergeometric Distribution)   \n",
        "今天我們透過作業中的問題，回想今天的內容吧!  "
      ]
    },
    {
      "cell_type": "markdown",
      "metadata": {
        "id": "7Ifo41H4zu6_"
      },
      "source": [
        "### Q1: 大樂透的頭獎，你必須從49個挑選出 6 個號碼，\n",
        "### 且這六個號碼與頭獎的六個號碼一致，頭獎的機率是屬於哪一種分配?"
      ]
    },
    {
      "cell_type": "code",
      "metadata": {
        "collapsed": true,
        "id": "wIqr1cEtzu7A"
      },
      "source": [
        "# 超幾何分配"
      ],
      "execution_count": null,
      "outputs": []
    },
    {
      "cell_type": "markdown",
      "metadata": {
        "id": "o0cfk-djzu7B"
      },
      "source": [
        "### Q2: 運用範例的 python 程式碼，計算大樂透的中頭獎機率?"
      ]
    },
    {
      "cell_type": "code",
      "metadata": {
        "colab": {
          "base_uri": "https://localhost:8080/"
        },
        "id": "fKVoEO0yW0Qp",
        "outputId": "0b446baa-aa99-4aaa-ed3c-bd971030a6f5"
      },
      "source": [
        "from scipy import stats\n",
        "\n",
        "N = 49\n",
        "K = 6\n",
        "n = 6\n",
        "x = 6\n",
        "\n",
        "probs = stats.hypergeom.pmf(x, N, K, n)\n",
        "print(probs)"
      ],
      "execution_count": 10,
      "outputs": [
        {
          "output_type": "stream",
          "text": [
            "7.151123842018523e-08\n"
          ],
          "name": "stdout"
        }
      ]
    },
    {
      "cell_type": "markdown",
      "metadata": {
        "id": "93C--WFEzu7B"
      },
      "source": [
        "### Q3: 你覺得電腦簽注的中獎機率，和人腦簽注相比，哪一個機率高?"
      ]
    },
    {
      "cell_type": "code",
      "metadata": {
        "collapsed": true,
        "id": "7HjWnVXAzu7B"
      },
      "source": [
        "# 機率相同"
      ],
      "execution_count": null,
      "outputs": []
    }
  ]
}