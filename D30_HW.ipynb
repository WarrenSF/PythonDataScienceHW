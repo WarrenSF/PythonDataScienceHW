{
  "nbformat": 4,
  "nbformat_minor": 0,
  "metadata": {
    "colab": {
      "name": "D30基礎題作業.ipynb",
      "provenance": []
    },
    "kernelspec": {
      "display_name": "Python 3",
      "language": "python",
      "name": "python3"
    },
    "language_info": {
      "codemirror_mode": {
        "name": "ipython",
        "version": 3
      },
      "file_extension": ".py",
      "mimetype": "text/x-python",
      "name": "python",
      "nbconvert_exporter": "python",
      "pygments_lexer": "ipython3",
      "version": "3.6.1"
    }
  },
  "cells": [
    {
      "cell_type": "markdown",
      "metadata": {
        "id": "fuPQZP5O3agq"
      },
      "source": [
        "## 作業:\n",
        "作業目標，讓大家熟悉連續型分配的語法，\n",
        "以及怎麼透過 python 語法進行常態分配的機率運算。\n"
      ]
    },
    {
      "cell_type": "markdown",
      "metadata": {
        "id": "AxdUBwMW3ags"
      },
      "source": [
        "### Q1:計算標準常態分配，小於1的機率有多大?\n",
        "![](Q1.png)"
      ]
    },
    {
      "cell_type": "code",
      "metadata": {
        "collapsed": true,
        "id": "yz28_IgkYdBW"
      },
      "source": [
        "# library\n",
        "from scipy import stats "
      ],
      "execution_count": 1,
      "outputs": []
    },
    {
      "cell_type": "code",
      "metadata": {
        "colab": {
          "base_uri": "https://localhost:8080/"
        },
        "id": "JdCrKltz3agt",
        "outputId": "db11f23b-bd49-4a9b-da0e-300aca15189c"
      },
      "source": [
        "mu =0\n",
        "sigma =1\n",
        "print('P(x<1)=',stats.norm.cdf(1,mu,sigma))"
      ],
      "execution_count": 3,
      "outputs": [
        {
          "output_type": "stream",
          "text": [
            "P(x<1)= 0.8413447460685429\n"
          ],
          "name": "stdout"
        }
      ]
    },
    {
      "cell_type": "markdown",
      "metadata": {
        "id": "72cxK1IZ3agu"
      },
      "source": [
        "### Q2:計算標準常態分配，大於1，小於 -1 的機率有多大?\n",
        "![](Q2.png)\n"
      ]
    },
    {
      "cell_type": "code",
      "metadata": {
        "colab": {
          "base_uri": "https://localhost:8080/"
        },
        "id": "uy5gh9Zl3agu",
        "outputId": "cab48418-2dad-4146-88de-b5897b1e6ebd"
      },
      "source": [
        "a = stats.norm.cdf(1,mu,sigma)\n",
        "b = stats.norm.cdf(-1,mu,sigma)\n",
        "\n",
        "print(\"P(x>1) & P(x<-1)=\",(1-a)+b)"
      ],
      "execution_count": 4,
      "outputs": [
        {
          "output_type": "stream",
          "text": [
            "P(x>1) & P(x<-1)= 0.31731050786291415\n"
          ],
          "name": "stdout"
        }
      ]
    },
    {
      "cell_type": "markdown",
      "metadata": {
        "id": "yA6-fjV_3agu"
      },
      "source": [
        "### Q3:X~N(2,4),x 服從常態分配，平均數為2,變異數為 4，計算 X小於 6 的機率有多大?"
      ]
    },
    {
      "cell_type": "code",
      "metadata": {
        "colab": {
          "base_uri": "https://localhost:8080/"
        },
        "id": "1RtMELND3agv",
        "outputId": "33a30cc3-f70f-40b7-a9d5-b1ec28281260"
      },
      "source": [
        "## Q3\n",
        "#  提示: 和 Q1,Q2 不同，要先標準化。\n",
        "mu=2\n",
        "sigma=2\n",
        "print('P(x>6)=',stats.norm.cdf(6,mu,sigma))"
      ],
      "execution_count": 13,
      "outputs": [
        {
          "output_type": "stream",
          "text": [
            "P(x>6)= 0.9772498680518208\n"
          ],
          "name": "stdout"
        }
      ]
    }
  ]
}