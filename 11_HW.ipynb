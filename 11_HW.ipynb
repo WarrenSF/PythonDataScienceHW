{
  "nbformat": 4,
  "nbformat_minor": 0,
  "metadata": {
    "colab": {
      "name": "11 Homework維元.ipynb",
      "provenance": []
    },
    "kernelspec": {
      "display_name": "Python 3",
      "language": "python",
      "name": "python3"
    },
    "language_info": {
      "codemirror_mode": {
        "name": "ipython",
        "version": 3
      },
      "file_extension": ".py",
      "mimetype": "text/x-python",
      "name": "python",
      "nbconvert_exporter": "python",
      "pygments_lexer": "ipython3",
      "version": "3.6.5"
    }
  },
  "cells": [
    {
      "cell_type": "markdown",
      "metadata": {
        "id": "P6xk2_jLsvFF"
      },
      "source": [
        "# [作業目標]\n",
        "\n",
        "1. 根據題目給的 DataFrame 完成下列操作：\n",
        "\n",
        "```\n",
        "- 計算每個不同種類 animal 的 age 的平均數\n",
        "- 計算每個不同種類 animal 的 age 的平均數\n",
        "- 將資料依照 Age 欄位由小到大排序，再依照 visits 欄位由大到小排序\n",
        "- 將 priority 欄位中的 yes 和 no 字串，換成是布林值 的 True 和 False\n",
        "```\n",
        "\n",
        "\n",
        "2. 一個包含兩個欄位的 DataFrame，將每個數字減去\n",
        "\n",
        "```\n",
        "* 1) 該欄位的平均數\n",
        "* 2) 該筆資料平均數\n",
        "```\n",
        "\n",
        "3. 承上題，請問：\n",
        "\n",
        "```\n",
        "* 1) 哪一比的資料總合最小\n",
        "* 2) 哪一欄位的資料總合最小\n",
        "```\n"
      ]
    },
    {
      "cell_type": "markdown",
      "metadata": {
        "id": "uXGll28asvFS"
      },
      "source": [
        "# 作業 "
      ]
    },
    {
      "cell_type": "markdown",
      "metadata": {
        "id": "Sc8HyDRaxBiJ"
      },
      "source": [
        "### 1. 根據題目給的 DataFrame 完成下列操作：\n",
        "\n",
        "```\n",
        "- 計算每個不同種類 animal 的 age 的平均數\n",
        "- 計算每個不同種類 animal 的 age 的平均數\n",
        "- 將資料依照 Age 欄位由小到大排序，再依照 visits 欄位由大到小排序\n",
        "- 將 priority 欄位中的 yes 和 no 字串，換成是布林值 的 True 和 False\n",
        "```\n"
      ]
    },
    {
      "cell_type": "code",
      "metadata": {
        "id": "A5R1dYJ4xBiJ"
      },
      "source": [
        "# 記得先 Import 正確的套件\n",
        "\n",
        "import numpy as np\n",
        "import pandas as pd\n"
      ],
      "execution_count": 4,
      "outputs": []
    },
    {
      "cell_type": "code",
      "metadata": {
        "colab": {
          "base_uri": "https://localhost:8080/",
          "height": 343
        },
        "id": "5QrYoyNWsvFS",
        "outputId": "4c56a2cd-432c-45e7-e220-566bddab2447"
      },
      "source": [
        "data = {\n",
        "    'animal': ['cat', 'cat', 'snake', 'dog', 'dog', 'cat', 'snake', 'cat', 'dog', 'dog'],\n",
        "    'age': [2.5, 3, 0.5, np.nan, 5, 2, 4.5, np.nan, 7, 3],\n",
        "    'visits': [1, 3, 2, 3, 2, 3, 1, 1, 2, 1],\n",
        "    'priority': ['yes', 'yes', 'no', 'yes', 'no', 'no', 'no', 'yes', 'no', 'no']\n",
        "}\n",
        "\n",
        "labels = ['a', 'b', 'c', 'd', 'e', 'f', 'g', 'h', 'i', 'j']\n",
        "df = pd.DataFrame(data, index=labels)\n",
        "df"
      ],
      "execution_count": 5,
      "outputs": [
        {
          "output_type": "execute_result",
          "data": {
            "text/html": [
              "<div>\n",
              "<style scoped>\n",
              "    .dataframe tbody tr th:only-of-type {\n",
              "        vertical-align: middle;\n",
              "    }\n",
              "\n",
              "    .dataframe tbody tr th {\n",
              "        vertical-align: top;\n",
              "    }\n",
              "\n",
              "    .dataframe thead th {\n",
              "        text-align: right;\n",
              "    }\n",
              "</style>\n",
              "<table border=\"1\" class=\"dataframe\">\n",
              "  <thead>\n",
              "    <tr style=\"text-align: right;\">\n",
              "      <th></th>\n",
              "      <th>animal</th>\n",
              "      <th>age</th>\n",
              "      <th>visits</th>\n",
              "      <th>priority</th>\n",
              "    </tr>\n",
              "  </thead>\n",
              "  <tbody>\n",
              "    <tr>\n",
              "      <th>a</th>\n",
              "      <td>cat</td>\n",
              "      <td>2.5</td>\n",
              "      <td>1</td>\n",
              "      <td>yes</td>\n",
              "    </tr>\n",
              "    <tr>\n",
              "      <th>b</th>\n",
              "      <td>cat</td>\n",
              "      <td>3.0</td>\n",
              "      <td>3</td>\n",
              "      <td>yes</td>\n",
              "    </tr>\n",
              "    <tr>\n",
              "      <th>c</th>\n",
              "      <td>snake</td>\n",
              "      <td>0.5</td>\n",
              "      <td>2</td>\n",
              "      <td>no</td>\n",
              "    </tr>\n",
              "    <tr>\n",
              "      <th>d</th>\n",
              "      <td>dog</td>\n",
              "      <td>NaN</td>\n",
              "      <td>3</td>\n",
              "      <td>yes</td>\n",
              "    </tr>\n",
              "    <tr>\n",
              "      <th>e</th>\n",
              "      <td>dog</td>\n",
              "      <td>5.0</td>\n",
              "      <td>2</td>\n",
              "      <td>no</td>\n",
              "    </tr>\n",
              "    <tr>\n",
              "      <th>f</th>\n",
              "      <td>cat</td>\n",
              "      <td>2.0</td>\n",
              "      <td>3</td>\n",
              "      <td>no</td>\n",
              "    </tr>\n",
              "    <tr>\n",
              "      <th>g</th>\n",
              "      <td>snake</td>\n",
              "      <td>4.5</td>\n",
              "      <td>1</td>\n",
              "      <td>no</td>\n",
              "    </tr>\n",
              "    <tr>\n",
              "      <th>h</th>\n",
              "      <td>cat</td>\n",
              "      <td>NaN</td>\n",
              "      <td>1</td>\n",
              "      <td>yes</td>\n",
              "    </tr>\n",
              "    <tr>\n",
              "      <th>i</th>\n",
              "      <td>dog</td>\n",
              "      <td>7.0</td>\n",
              "      <td>2</td>\n",
              "      <td>no</td>\n",
              "    </tr>\n",
              "    <tr>\n",
              "      <th>j</th>\n",
              "      <td>dog</td>\n",
              "      <td>3.0</td>\n",
              "      <td>1</td>\n",
              "      <td>no</td>\n",
              "    </tr>\n",
              "  </tbody>\n",
              "</table>\n",
              "</div>"
            ],
            "text/plain": [
              "  animal  age  visits priority\n",
              "a    cat  2.5       1      yes\n",
              "b    cat  3.0       3      yes\n",
              "c  snake  0.5       2       no\n",
              "d    dog  NaN       3      yes\n",
              "e    dog  5.0       2       no\n",
              "f    cat  2.0       3       no\n",
              "g  snake  4.5       1       no\n",
              "h    cat  NaN       1      yes\n",
              "i    dog  7.0       2       no\n",
              "j    dog  3.0       1       no"
            ]
          },
          "metadata": {
            "tags": []
          },
          "execution_count": 5
        }
      ]
    },
    {
      "cell_type": "code",
      "metadata": {
        "colab": {
          "base_uri": "https://localhost:8080/"
        },
        "id": "2sNvC4rLxBiL",
        "outputId": "5bbaef9b-41b1-43b3-b7a2-f439a263c561"
      },
      "source": [
        "# 計算每個不同種類 animal 的 age 的平均數\n",
        "# 計算每個不同種類 animal 的 age 的平均數\n",
        "print(df.groupby('animal').age.mean())\n",
        "# 將資料依照 Age 欄位由小到大排序，再依照 visits 欄位由大到小排序\n",
        "print(df.sort_values(by=['age','visits'],ascending=[True,False]))\n",
        "# 將 priority 欄位中的 yes 和 no 字串，換成是布林值 的 True 和 False\n",
        "df['priority'].replace('yes', True, inplace = True)\n",
        "df['priority'].replace('no', False, inplace = True)\n",
        "print(df)"
      ],
      "execution_count": 29,
      "outputs": [
        {
          "output_type": "stream",
          "text": [
            "animal\n",
            "cat      2.5\n",
            "dog      5.0\n",
            "snake    2.5\n",
            "Name: age, dtype: float64\n",
            "  animal  age  visits  priority\n",
            "c  snake  0.5       2     False\n",
            "f    cat  2.0       3     False\n",
            "a    cat  2.5       1      True\n",
            "b    cat  3.0       3      True\n",
            "j    dog  3.0       1     False\n",
            "g  snake  4.5       1     False\n",
            "e    dog  5.0       2     False\n",
            "i    dog  7.0       2     False\n",
            "d    dog  NaN       3      True\n",
            "h    cat  NaN       1      True\n",
            "  animal  age  visits  priority\n",
            "a    cat  2.5       1      True\n",
            "b    cat  3.0       3      True\n",
            "c  snake  0.5       2     False\n",
            "d    dog  NaN       3      True\n",
            "e    dog  5.0       2     False\n",
            "f    cat  2.0       3     False\n",
            "g  snake  4.5       1     False\n",
            "h    cat  NaN       1      True\n",
            "i    dog  7.0       2     False\n",
            "j    dog  3.0       1     False\n"
          ],
          "name": "stdout"
        }
      ]
    },
    {
      "cell_type": "markdown",
      "metadata": {
        "id": "ZsA6LpV3xBiL"
      },
      "source": [
        "### 2. 一個包含兩個欄位的 DataFrame，將每個數字減去\n",
        "\n",
        "* 1) 該欄位的平均數\n",
        "* 2) 該筆資料平均數"
      ]
    },
    {
      "cell_type": "code",
      "metadata": {
        "colab": {
          "base_uri": "https://localhost:8080/",
          "height": 195
        },
        "id": "e1gVI0tvsvFY",
        "outputId": "7836d276-1636-4077-ebc6-c6f6a633d687"
      },
      "source": [
        "df = pd.DataFrame(np.random.random(size=(5, 3)))\n",
        "df"
      ],
      "execution_count": 82,
      "outputs": [
        {
          "output_type": "execute_result",
          "data": {
            "text/html": [
              "<div>\n",
              "<style scoped>\n",
              "    .dataframe tbody tr th:only-of-type {\n",
              "        vertical-align: middle;\n",
              "    }\n",
              "\n",
              "    .dataframe tbody tr th {\n",
              "        vertical-align: top;\n",
              "    }\n",
              "\n",
              "    .dataframe thead th {\n",
              "        text-align: right;\n",
              "    }\n",
              "</style>\n",
              "<table border=\"1\" class=\"dataframe\">\n",
              "  <thead>\n",
              "    <tr style=\"text-align: right;\">\n",
              "      <th></th>\n",
              "      <th>0</th>\n",
              "      <th>1</th>\n",
              "      <th>2</th>\n",
              "    </tr>\n",
              "  </thead>\n",
              "  <tbody>\n",
              "    <tr>\n",
              "      <th>0</th>\n",
              "      <td>0.319494</td>\n",
              "      <td>0.238283</td>\n",
              "      <td>0.636427</td>\n",
              "    </tr>\n",
              "    <tr>\n",
              "      <th>1</th>\n",
              "      <td>0.722307</td>\n",
              "      <td>0.424604</td>\n",
              "      <td>0.614528</td>\n",
              "    </tr>\n",
              "    <tr>\n",
              "      <th>2</th>\n",
              "      <td>0.516062</td>\n",
              "      <td>0.963545</td>\n",
              "      <td>0.764665</td>\n",
              "    </tr>\n",
              "    <tr>\n",
              "      <th>3</th>\n",
              "      <td>0.005831</td>\n",
              "      <td>0.950665</td>\n",
              "      <td>0.946325</td>\n",
              "    </tr>\n",
              "    <tr>\n",
              "      <th>4</th>\n",
              "      <td>0.564145</td>\n",
              "      <td>0.481231</td>\n",
              "      <td>0.588380</td>\n",
              "    </tr>\n",
              "  </tbody>\n",
              "</table>\n",
              "</div>"
            ],
            "text/plain": [
              "          0         1         2\n",
              "0  0.319494  0.238283  0.636427\n",
              "1  0.722307  0.424604  0.614528\n",
              "2  0.516062  0.963545  0.764665\n",
              "3  0.005831  0.950665  0.946325\n",
              "4  0.564145  0.481231  0.588380"
            ]
          },
          "metadata": {
            "tags": []
          },
          "execution_count": 82
        }
      ]
    },
    {
      "cell_type": "code",
      "metadata": {
        "id": "d6j0VN_txBiM",
        "outputId": "eff7d7c7-3bad-45a8-fe6f-f4134d553f48"
      },
      "source": [
        "#將每個數字減去該欄位的平均數\n"
      ],
      "execution_count": null,
      "outputs": [
        {
          "output_type": "execute_result",
          "data": {
            "text/html": [
              "<div>\n",
              "<style scoped>\n",
              "    .dataframe tbody tr th:only-of-type {\n",
              "        vertical-align: middle;\n",
              "    }\n",
              "\n",
              "    .dataframe tbody tr th {\n",
              "        vertical-align: top;\n",
              "    }\n",
              "\n",
              "    .dataframe thead th {\n",
              "        text-align: right;\n",
              "    }\n",
              "</style>\n",
              "<table border=\"1\" class=\"dataframe\">\n",
              "  <thead>\n",
              "    <tr style=\"text-align: right;\">\n",
              "      <th></th>\n",
              "      <th>0</th>\n",
              "      <th>1</th>\n",
              "      <th>2</th>\n",
              "    </tr>\n",
              "  </thead>\n",
              "  <tbody>\n",
              "    <tr>\n",
              "      <th>0</th>\n",
              "      <td>0.130010</td>\n",
              "      <td>0.316253</td>\n",
              "      <td>0.158839</td>\n",
              "    </tr>\n",
              "    <tr>\n",
              "      <th>1</th>\n",
              "      <td>0.148624</td>\n",
              "      <td>-0.524442</td>\n",
              "      <td>0.117382</td>\n",
              "    </tr>\n",
              "    <tr>\n",
              "      <th>2</th>\n",
              "      <td>-0.085726</td>\n",
              "      <td>0.073242</td>\n",
              "      <td>-0.620083</td>\n",
              "    </tr>\n",
              "    <tr>\n",
              "      <th>3</th>\n",
              "      <td>0.129444</td>\n",
              "      <td>0.056036</td>\n",
              "      <td>0.155504</td>\n",
              "    </tr>\n",
              "    <tr>\n",
              "      <th>4</th>\n",
              "      <td>-0.322352</td>\n",
              "      <td>0.078911</td>\n",
              "      <td>0.188358</td>\n",
              "    </tr>\n",
              "  </tbody>\n",
              "</table>\n",
              "</div>"
            ],
            "text/plain": [
              "          0         1         2\n",
              "0  0.130010  0.316253  0.158839\n",
              "1  0.148624 -0.524442  0.117382\n",
              "2 -0.085726  0.073242 -0.620083\n",
              "3  0.129444  0.056036  0.155504\n",
              "4 -0.322352  0.078911  0.188358"
            ]
          },
          "metadata": {
            "tags": []
          },
          "execution_count": 31
        }
      ]
    },
    {
      "cell_type": "code",
      "metadata": {
        "id": "nxbg4rxUxBiM",
        "outputId": "be545bd4-402f-4b2b-c6cd-138d09f6ce43"
      },
      "source": [
        "#將每個數字減去該筆資料平均數\n",
        "df['avg']=df.mean(axis=1)\n",
        "print(df.apply(lambda x : x-df.avg))"
      ],
      "execution_count": null,
      "outputs": [
        {
          "output_type": "execute_result",
          "data": {
            "text/html": [
              "<div>\n",
              "<style scoped>\n",
              "    .dataframe tbody tr th:only-of-type {\n",
              "        vertical-align: middle;\n",
              "    }\n",
              "\n",
              "    .dataframe tbody tr th {\n",
              "        vertical-align: top;\n",
              "    }\n",
              "\n",
              "    .dataframe thead th {\n",
              "        text-align: right;\n",
              "    }\n",
              "</style>\n",
              "<table border=\"1\" class=\"dataframe\">\n",
              "  <thead>\n",
              "    <tr style=\"text-align: right;\">\n",
              "      <th></th>\n",
              "      <th>0</th>\n",
              "      <th>1</th>\n",
              "      <th>2</th>\n",
              "    </tr>\n",
              "  </thead>\n",
              "  <tbody>\n",
              "    <tr>\n",
              "      <th>0</th>\n",
              "      <td>-0.068501</td>\n",
              "      <td>0.014680</td>\n",
              "      <td>0.053821</td>\n",
              "    </tr>\n",
              "    <tr>\n",
              "      <th>1</th>\n",
              "      <td>0.237960</td>\n",
              "      <td>-0.538169</td>\n",
              "      <td>0.300209</td>\n",
              "    </tr>\n",
              "    <tr>\n",
              "      <th>2</th>\n",
              "      <td>0.128320</td>\n",
              "      <td>0.184225</td>\n",
              "      <td>-0.312545</td>\n",
              "    </tr>\n",
              "    <tr>\n",
              "      <th>3</th>\n",
              "      <td>0.018972</td>\n",
              "      <td>-0.157497</td>\n",
              "      <td>0.138525</td>\n",
              "    </tr>\n",
              "    <tr>\n",
              "      <th>4</th>\n",
              "      <td>-0.300801</td>\n",
              "      <td>-0.002600</td>\n",
              "      <td>0.303401</td>\n",
              "    </tr>\n",
              "  </tbody>\n",
              "</table>\n",
              "</div>"
            ],
            "text/plain": [
              "          0         1         2\n",
              "0 -0.068501  0.014680  0.053821\n",
              "1  0.237960 -0.538169  0.300209\n",
              "2  0.128320  0.184225 -0.312545\n",
              "3  0.018972 -0.157497  0.138525\n",
              "4 -0.300801 -0.002600  0.303401"
            ]
          },
          "metadata": {
            "tags": []
          },
          "execution_count": 32
        }
      ]
    },
    {
      "cell_type": "markdown",
      "metadata": {
        "id": "Al0rFS5_xBiM"
      },
      "source": [
        "### 3. 承上題，請問：\n",
        "\n",
        "1) 哪一比的資料總合最小\n",
        "2) 哪一欄位的資料總合最小\n",
        "\n"
      ]
    },
    {
      "cell_type": "code",
      "metadata": {
        "colab": {
          "base_uri": "https://localhost:8080/",
          "height": 195
        },
        "id": "QP4AFO8OxBiN",
        "outputId": "1da8c85d-32e3-406f-bc5b-acaf67fe5e16"
      },
      "source": [
        "df"
      ],
      "execution_count": 83,
      "outputs": [
        {
          "output_type": "execute_result",
          "data": {
            "text/html": [
              "<div>\n",
              "<style scoped>\n",
              "    .dataframe tbody tr th:only-of-type {\n",
              "        vertical-align: middle;\n",
              "    }\n",
              "\n",
              "    .dataframe tbody tr th {\n",
              "        vertical-align: top;\n",
              "    }\n",
              "\n",
              "    .dataframe thead th {\n",
              "        text-align: right;\n",
              "    }\n",
              "</style>\n",
              "<table border=\"1\" class=\"dataframe\">\n",
              "  <thead>\n",
              "    <tr style=\"text-align: right;\">\n",
              "      <th></th>\n",
              "      <th>0</th>\n",
              "      <th>1</th>\n",
              "      <th>2</th>\n",
              "    </tr>\n",
              "  </thead>\n",
              "  <tbody>\n",
              "    <tr>\n",
              "      <th>0</th>\n",
              "      <td>0.319494</td>\n",
              "      <td>0.238283</td>\n",
              "      <td>0.636427</td>\n",
              "    </tr>\n",
              "    <tr>\n",
              "      <th>1</th>\n",
              "      <td>0.722307</td>\n",
              "      <td>0.424604</td>\n",
              "      <td>0.614528</td>\n",
              "    </tr>\n",
              "    <tr>\n",
              "      <th>2</th>\n",
              "      <td>0.516062</td>\n",
              "      <td>0.963545</td>\n",
              "      <td>0.764665</td>\n",
              "    </tr>\n",
              "    <tr>\n",
              "      <th>3</th>\n",
              "      <td>0.005831</td>\n",
              "      <td>0.950665</td>\n",
              "      <td>0.946325</td>\n",
              "    </tr>\n",
              "    <tr>\n",
              "      <th>4</th>\n",
              "      <td>0.564145</td>\n",
              "      <td>0.481231</td>\n",
              "      <td>0.588380</td>\n",
              "    </tr>\n",
              "  </tbody>\n",
              "</table>\n",
              "</div>"
            ],
            "text/plain": [
              "          0         1         2\n",
              "0  0.319494  0.238283  0.636427\n",
              "1  0.722307  0.424604  0.614528\n",
              "2  0.516062  0.963545  0.764665\n",
              "3  0.005831  0.950665  0.946325\n",
              "4  0.564145  0.481231  0.588380"
            ]
          },
          "metadata": {
            "tags": []
          },
          "execution_count": 83
        }
      ]
    },
    {
      "cell_type": "code",
      "metadata": {
        "colab": {
          "base_uri": "https://localhost:8080/"
        },
        "id": "J0ebZ8EDxBiN",
        "outputId": "622eeab2-9e9f-454c-97d9-9bb250301293"
      },
      "source": [
        "#哪一筆的資料總合最小\n",
        "df.sum(axis=1).min()"
      ],
      "execution_count": 94,
      "outputs": [
        {
          "output_type": "execute_result",
          "data": {
            "text/plain": [
              "1.1942034467233396"
            ]
          },
          "metadata": {
            "tags": []
          },
          "execution_count": 94
        }
      ]
    },
    {
      "cell_type": "code",
      "metadata": {
        "colab": {
          "base_uri": "https://localhost:8080/"
        },
        "id": "sjm1sP-xxBiN",
        "outputId": "9211d05a-28e9-4533-e026-4cec325c8611"
      },
      "source": [
        "#哪一欄位的資料總合最小\n",
        "df.sum().min()"
      ],
      "execution_count": 98,
      "outputs": [
        {
          "output_type": "execute_result",
          "data": {
            "text/plain": [
              "2.1278387627940756"
            ]
          },
          "metadata": {
            "tags": []
          },
          "execution_count": 98
        }
      ]
    },
    {
      "cell_type": "code",
      "metadata": {
        "id": "o3BbtjquxBiN"
      },
      "source": [
        ""
      ],
      "execution_count": null,
      "outputs": []
    },
    {
      "cell_type": "code",
      "metadata": {
        "id": "nVQfCYIlxBiO"
      },
      "source": [
        ""
      ],
      "execution_count": null,
      "outputs": []
    },
    {
      "cell_type": "code",
      "metadata": {
        "id": "nt-6WL6AxBiO"
      },
      "source": [
        ""
      ],
      "execution_count": null,
      "outputs": []
    }
  ]
}