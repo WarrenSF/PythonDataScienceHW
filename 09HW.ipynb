{
  "nbformat": 4,
  "nbformat_minor": 0,
  "metadata": {
    "colab": {
      "name": "09 Homework_維元.ipynb",
      "provenance": []
    },
    "kernelspec": {
      "display_name": "Python 3",
      "language": "python",
      "name": "python3"
    },
    "language_info": {
      "codemirror_mode": {
        "name": "ipython",
        "version": 3
      },
      "file_extension": ".py",
      "mimetype": "text/x-python",
      "name": "python",
      "nbconvert_exporter": "python",
      "pygments_lexer": "ipython3",
      "version": "3.6.5"
    }
  },
  "cells": [
    {
      "cell_type": "markdown",
      "metadata": {
        "id": "P6xk2_jLsvFF"
      },
      "source": [
        "# [作業目標]\n",
        "\n",
        "1. 請建立類似提供結果的 DataFrame：\n",
        "\n",
        "```\n",
        "#    Apples  Bananas\n",
        "# 0      30       21\n",
        "\n",
        "#             Apples  Bananas\n",
        "# 2017 Sales      35       21\n",
        "# 2018 Sales      41       34\n",
        "\n",
        "```\n",
        "\n",
        "2. 請問如果現在有一個 DataFrame 如下，請問資料在 Python 中可能長怎樣？\n",
        "\n",
        "```\n",
        "#      city  visitor weekday\n",
        "# 0  Austin      139     Sun\n",
        "# 1  Dallas      237     Sun\n",
        "# 2  Austin      326     Mon\n",
        "# 3  Dallas      456     Mon\n",
        "```\n",
        "\n",
        "3. 假設你想知道每個 weekday 的平均 visitor 數量，可以怎麼做？\n"
      ]
    },
    {
      "cell_type": "markdown",
      "metadata": {
        "id": "uXGll28asvFS"
      },
      "source": [
        "# 作業 "
      ]
    },
    {
      "cell_type": "markdown",
      "metadata": {
        "id": "Va5uSPjVO1dM"
      },
      "source": [
        "### 1. 請建立類似提供結果的 DataFrame：\n",
        "\n",
        "```\n",
        "#    Apples  Bananas\n",
        "# 0      30       21\n",
        "\n",
        "#             Apples  Bananas\n",
        "# 2017 Sales      35       21\n",
        "# 2018 Sales      41       34\n",
        "\n",
        "```\n",
        "\n"
      ]
    },
    {
      "cell_type": "code",
      "metadata": {
        "id": "0xCm0i7NO1dM"
      },
      "source": [
        "# 記得先 Import 正確的套件\n",
        "\n",
        "import pandas as pd\n"
      ],
      "execution_count": 5,
      "outputs": []
    },
    {
      "cell_type": "code",
      "metadata": {
        "id": "5QrYoyNWsvFS",
        "outputId": "4d369ed2-719f-4d2d-bca0-6a3eaa736198"
      },
      "source": [
        "df = pd.DataFrame([[30, 21]], columns=['Apples', 'Bananas'])\n",
        "print(df)\n",
        "df = pd.DataFrame([[30,21], [41,34]], index=['2017 Sales', '2018 Sales'], columns=['Apples', 'Bananas'])\n",
        "print(df)"
      ],
      "execution_count": null,
      "outputs": [
        {
          "output_type": "stream",
          "text": [
            "   Apples  Bananas\n",
            "0      30       21\n",
            "            Apples  Bananas\n",
            "2017 Sales      30       21\n",
            "2018 Sales      41       34\n"
          ],
          "name": "stdout"
        }
      ]
    },
    {
      "cell_type": "markdown",
      "metadata": {
        "id": "MWbF1wywO1dN"
      },
      "source": [
        "### 2. 請問如果現在有一個 DataFrame 如下，請問資料在 Python 中可能長怎樣？\n",
        "\n",
        "```\n",
        "#      city  visitor weekday\n",
        "# 0  Austin      139     Sun\n",
        "# 1  Dallas      237     Sun\n",
        "# 2  Austin      326     Mon\n",
        "# 3  Dallas      456     Mon\n",
        "```\n",
        "\n"
      ]
    },
    {
      "cell_type": "code",
      "metadata": {
        "colab": {
          "base_uri": "https://localhost:8080/",
          "height": 250
        },
        "id": "e1gVI0tvsvFY",
        "outputId": "4b5ee184-df83-41fe-97f5-bb576e29e2ef"
      },
      "source": [
        "df = pd.DataFrame({\n",
        "    'City': ['Austin', 'Dallas', 'Austin', 'Dallas'],\n",
        "    'visitor': [139, 237, 139, 456],\n",
        "    'weekday': ['Sun', 'Sun', 'Mon', 'Mon'],\n",
        "})\n",
        "print(df)\n",
        "df"
      ],
      "execution_count": 47,
      "outputs": [
        {
          "output_type": "stream",
          "text": [
            "     City  visitor weekday\n",
            "0  Austin      139     Sun\n",
            "1  Dallas      237     Sun\n",
            "2  Austin      139     Mon\n",
            "3  Dallas      456     Mon\n"
          ],
          "name": "stdout"
        },
        {
          "output_type": "execute_result",
          "data": {
            "text/html": [
              "<div>\n",
              "<style scoped>\n",
              "    .dataframe tbody tr th:only-of-type {\n",
              "        vertical-align: middle;\n",
              "    }\n",
              "\n",
              "    .dataframe tbody tr th {\n",
              "        vertical-align: top;\n",
              "    }\n",
              "\n",
              "    .dataframe thead th {\n",
              "        text-align: right;\n",
              "    }\n",
              "</style>\n",
              "<table border=\"1\" class=\"dataframe\">\n",
              "  <thead>\n",
              "    <tr style=\"text-align: right;\">\n",
              "      <th></th>\n",
              "      <th>City</th>\n",
              "      <th>visitor</th>\n",
              "      <th>weekday</th>\n",
              "    </tr>\n",
              "  </thead>\n",
              "  <tbody>\n",
              "    <tr>\n",
              "      <th>0</th>\n",
              "      <td>Austin</td>\n",
              "      <td>139</td>\n",
              "      <td>Sun</td>\n",
              "    </tr>\n",
              "    <tr>\n",
              "      <th>1</th>\n",
              "      <td>Dallas</td>\n",
              "      <td>237</td>\n",
              "      <td>Sun</td>\n",
              "    </tr>\n",
              "    <tr>\n",
              "      <th>2</th>\n",
              "      <td>Austin</td>\n",
              "      <td>139</td>\n",
              "      <td>Mon</td>\n",
              "    </tr>\n",
              "    <tr>\n",
              "      <th>3</th>\n",
              "      <td>Dallas</td>\n",
              "      <td>456</td>\n",
              "      <td>Mon</td>\n",
              "    </tr>\n",
              "  </tbody>\n",
              "</table>\n",
              "</div>"
            ],
            "text/plain": [
              "     City  visitor weekday\n",
              "0  Austin      139     Sun\n",
              "1  Dallas      237     Sun\n",
              "2  Austin      139     Mon\n",
              "3  Dallas      456     Mon"
            ]
          },
          "metadata": {
            "tags": []
          },
          "execution_count": 47
        }
      ]
    },
    {
      "cell_type": "markdown",
      "metadata": {
        "id": "NTEd5JOEO1dO"
      },
      "source": [
        "### 3. 承上題，假設你想知道每個 weekday 的平均 visitor 數量，可以怎麼做？\n"
      ]
    },
    {
      "cell_type": "code",
      "metadata": {
        "id": "DD7atdrKO1dO",
        "outputId": "1fc04529-71bb-451b-f73f-80bc29f99a93"
      },
      "source": [
        "df.groupby([\"weekday\"]).mean()"
      ],
      "execution_count": null,
      "outputs": [
        {
          "output_type": "stream",
          "text": [
            "Sun 188.0\n",
            "Mon 297.5\n"
          ],
          "name": "stdout"
        }
      ]
    },
    {
      "cell_type": "code",
      "metadata": {
        "id": "GyFGjHzRO1dP"
      },
      "source": [
        ""
      ],
      "execution_count": null,
      "outputs": []
    }
  ]
}