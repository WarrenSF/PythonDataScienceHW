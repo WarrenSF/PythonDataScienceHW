{
  "nbformat": 4,
  "nbformat_minor": 0,
  "metadata": {
    "kernelspec": {
      "display_name": "Python 3",
      "language": "python",
      "name": "python3"
    },
    "language_info": {
      "codemirror_mode": {
        "name": "ipython",
        "version": 3
      },
      "file_extension": ".py",
      "mimetype": "text/x-python",
      "name": "python",
      "nbconvert_exporter": "python",
      "pygments_lexer": "ipython3",
      "version": "3.6.8"
    },
    "colab": {
      "name": "不動產分析_習題.ipynb",
      "provenance": []
    }
  },
  "cells": [
    {
      "cell_type": "markdown",
      "metadata": {
        "id": "ecrVHDiuAto7"
      },
      "source": [
        "哈摟，各位資料科學家大家好，我是來自於台北市\"頭期款不足\"的阿宏，我想買房子很久了，但是不知道要買哪個地方，想先從內政部不動產交易時價登入資料中先了解行情，我現在手邊蒐集了台北市Taipei(A_lvr_land_A.csv)、新北市New_Taipei(F_lvr_land_A.csv)、台中市Taichung(B_lvr_land_A.csv)、高雄市Kaohsiung(E_lvr_land_A.csv)共四份資料，請各位資料科學家幫幫忙分析了。"
      ]
    },
    {
      "cell_type": "markdown",
      "metadata": {
        "id": "9_PILIgwAtpW"
      },
      "source": [
        "# 1.不動產資料檔案讀取並串接"
      ]
    },
    {
      "cell_type": "markdown",
      "metadata": {
        "id": "54hz4CgWAtpX"
      },
      "source": [
        "資料分散在4個資料，先合併成一個資料方便後續分析，但是我發現有英文欄位跟中文欄位，留下中文刪除英文，並加入新的欄位用以分辨台北市Taipei、新北市New_Taipei、台中市Taichung、高雄市Kaohsiung"
      ]
    },
    {
      "cell_type": "markdown",
      "metadata": {
        "id": "UAgGy_owAtpY"
      },
      "source": [
        "1. 利用Pandas中的pd.read_csv()分別讀取A_lvr_land_A.csv、B_lvr_land_A.csv、E_lvr_land_A.csv、F_lvr_land_A.csv\n",
        "2. 刪除csv中第二列英文翻譯，The villages and towns urban district,transaction sign,land sector position building sector house number plate,land shifting total area square meter,....\n",
        "3. 生成city欄位其中以地區分類台北市Taipei(A_lvr_land_A.csv)、新北市New_Taipei(F_lvr_land_A.csv)、台中市Taichung(B_lvr_land_A.csv)、高雄市Kaohsiung(E_lvr_land_A.csv)\n",
        "4. 將以上四份資料運用pd.concat()串接"
      ]
    },
    {
      "cell_type": "code",
      "metadata": {
        "id": "AtdUcGYAAtpY"
      },
      "source": [
        "import pandas as pd "
      ],
      "execution_count": 1,
      "outputs": []
    },
    {
      "cell_type": "code",
      "metadata": {
        "id": "qaBwVWbkAtpZ",
        "colab": {
          "base_uri": "https://localhost:8080/"
        },
        "outputId": "d3d3b54c-6576-42eb-bb06-5ad3a36a827c"
      },
      "source": [
        "#1.利用Pandas中的pd.read_csv()分別讀取A_lvr_land_A.csv、B_lvr_land_A.csv、E_lvr_land_A.csv、F_lvr_land_A.csv\n",
        "dfA = pd.read_csv('A_lvr_land_A.csv')\n",
        "dfB = pd.read_csv('B_lvr_land_A.csv')\n",
        "dfE = pd.read_csv('E_lvr_land_A.csv')\n",
        "dfF = pd.read_csv('F_lvr_land_A.csv')"
      ],
      "execution_count": 3,
      "outputs": [
        {
          "output_type": "stream",
          "text": [
            "/usr/local/lib/python3.7/dist-packages/IPython/core/interactiveshell.py:2718: DtypeWarning: Columns (3,7,14,15,16,17,18,21,22,24,25) have mixed types.Specify dtype option on import or set low_memory=False.\n",
            "  interactivity=interactivity, compiler=compiler, result=result)\n"
          ],
          "name": "stderr"
        }
      ]
    },
    {
      "cell_type": "code",
      "metadata": {
        "id": "ulv52OOeAtpZ"
      },
      "source": [
        "#2.刪除csv中第二列英文翻譯，The villages and towns urban district,transaction sign,land sector position building sector house number plate,land shifting total area square meter,....\n",
        "dfA=dfA.drop(0)\n",
        "dfB=dfB.drop(0)\n",
        "dfE=dfE.drop(0)\n",
        "dfF=dfF.drop(0)"
      ],
      "execution_count": 6,
      "outputs": []
    },
    {
      "cell_type": "code",
      "metadata": {
        "id": "p7cqARS8Atpa"
      },
      "source": [
        "#3. 生成city欄位其中以地區分類台北市Taipei(A_lvr_land_A.csv)、新北市New_Taipei(F_lvr_land_A.csv)、台中市Taichung(B_lvr_land_A.csv)、高雄市Kaohsiung(E_lvr_land_A.csv)\n",
        "dfA['city']='Taipei'\n",
        "dfB['city']='Taichung'\n",
        "dfE['city']='Kaohsiung'\n",
        "dfF['city']='New_Taipei'"
      ],
      "execution_count": 7,
      "outputs": []
    },
    {
      "cell_type": "code",
      "metadata": {
        "id": "5Sajh33BAtpb"
      },
      "source": [
        "#4. 將以上四份資料運用pd.concat()串接\n",
        "df=pd.concat([dfA, dfB, dfE, dfE]).reset_index(drop=True)"
      ],
      "execution_count": 10,
      "outputs": []
    },
    {
      "cell_type": "markdown",
      "metadata": {
        "id": "vf6GM8Z_Atpb"
      },
      "source": [
        "# 2. 資料清理與切片"
      ]
    },
    {
      "cell_type": "markdown",
      "metadata": {
        "id": "QMPrmISNAtpb"
      },
      "source": [
        "因為我是想買來住的房子，所以幫忙刪除住宿用途以外的資料，並且限制\n",
        "1. 交易年月日，限制在109年\n",
        "2. 建物現況格局-房，1~5間 \n",
        "3. 建物現況格局-廳，1~2廳"
      ]
    },
    {
      "cell_type": "markdown",
      "metadata": {
        "id": "1C-ImCfTAtpc"
      },
      "source": [
        "以下columns_mapping、analysis_columns、columns_type提供給資料科學家配合使用\n",
        "1. 利用.rename()並配合以下columns_mapping，將原中文欄位名稱改為英文方便之後分析\n",
        "2. 取出主要用途(main_use)為'住家用'以及都市土地使用分區(use_zoning)為'住'的資料並針對以下欄位analysis_columns做分析並去除na值\n",
        "   (提示:先取完之後再.dropna())\n",
        "3. 觀察欄位資料型態，並利用.astype()搭配以下提供的columns_type做欄位型態轉換\n",
        "4. 做資料切片將<br>\n",
        "    新增欄位交易年月日(tx_dt_year)，從交易年月日(tx_dt)萃取出年份<br>\n",
        "    1.交易年月日(tx_dt_year)，限制在109年<br>\n",
        "    2.建物現況格局-房(room_number)，限制在1到5間<br>\n",
        "    3.建物現況格局-廳(hall_number)，限制在1到2廳<br>\n",
        "    4.最後運用.reset_index()重新定義索引"
      ]
    },
    {
      "cell_type": "code",
      "metadata": {
        "id": "rBSElFmKAtpc"
      },
      "source": [
        "columns_mapping = {'鄉鎮市區':'towns',\n",
        "'交易標的':'transaction_sign',\n",
        "'土地區段位置建物區段門牌':'house_number',\n",
        "'土地移轉總面積平方公尺':'land_area_square_meter', \n",
        "'都市土地使用分區':'use_zoning', \n",
        "'非都市土地使用分區':'land_use_district',\n",
        "'非都市土地使用編定':'land_use',\n",
        "'交易年月日':'tx_dt', \n",
        " '交易筆棟數':'transaction_pen_number', \n",
        " '移轉層次':'shifting_level', \n",
        " '總樓層數':'total_floor_number', \n",
        " '建物型態':'building_state', \n",
        " '主要用途':'main_use', \n",
        " '主要建材':'main_materials',\n",
        " '建築完成年月':'complete_date', \n",
        " '建物移轉總面積平方公尺':'building_area_square_meter', \n",
        " '建物現況格局-房':'room_number', \n",
        " '建物現況格局-廳':'hall_number', \n",
        " '建物現況格局-衛':'health_number', \n",
        "'建物現況格局-隔間':'compartmented_number', \n",
        " '有無管理組織':'manages', \n",
        " '總價元':'total_price', \n",
        " '單價元平方公尺':'unit_price', \n",
        " '車位類別':'berth_category', \n",
        " '車位移轉總面積(平方公尺)':'berth_area_square_meter',\n",
        "'車位總價元':'berth_price', \n",
        " '備註':'note', \n",
        " '編號':'serial_number', \n",
        " '主建物面積':'main_building_area', \n",
        " '附屬建物面積':'auxiliary_building_area', \n",
        " '陽台面積':'balcony_area', \n",
        " '電梯':'elevator'\n",
        "                  }\n",
        "analysis_columns = ['city','towns','main_use','use_zoning','total_price','building_area_square_meter',\n",
        "                                     'main_building_area',\n",
        "                                     'tx_dt','unit_price','room_number','hall_number','health_number']\n",
        "columns_type = {'total_price': 'int','unit_price':'float','building_area_square_meter':'float',\n",
        "                                      'main_building_area': 'float',\n",
        "                                      'room_number': 'int','hall_number': 'int','health_number': 'int'}"
      ],
      "execution_count": 12,
      "outputs": []
    },
    {
      "cell_type": "code",
      "metadata": {
        "scrolled": true,
        "id": "JFrw25keAtpe",
        "colab": {
          "base_uri": "https://localhost:8080/"
        },
        "outputId": "f04e4610-e85a-4108-c02e-d1555f6b63d0"
      },
      "source": [
        "#1. 利用.rename()並配合以下columns_mapping，將原中文欄位名稱改為英文方便之後分析\n",
        "df=df.rename(columns=columns_mapping)\n",
        "df.columns"
      ],
      "execution_count": 14,
      "outputs": [
        {
          "output_type": "execute_result",
          "data": {
            "text/plain": [
              "Index(['towns', 'transaction_sign', 'house_number', 'land_area_square_meter',\n",
              "       'use_zoning', 'land_use_district', 'land_use', 'tx_dt',\n",
              "       'transaction_pen_number', 'shifting_level', 'total_floor_number',\n",
              "       'building_state', 'main_use', 'main_materials', 'complete_date',\n",
              "       'building_area_square_meter', 'room_number', 'hall_number',\n",
              "       'health_number', 'compartmented_number', 'manages', 'total_price',\n",
              "       'unit_price', 'berth_category', 'berth_area_square_meter',\n",
              "       'berth_price', 'note', 'serial_number', 'main_building_area',\n",
              "       'auxiliary_building_area', 'balcony_area', 'elevator', 'city'],\n",
              "      dtype='object')"
            ]
          },
          "metadata": {
            "tags": []
          },
          "execution_count": 14
        }
      ]
    },
    {
      "cell_type": "code",
      "metadata": {
        "id": "GMPSUJFcAtpf"
      },
      "source": [
        "#2. 取出主要用途(main_use)為'住家用'以及都市土地使用分區(use_zoning)為'住'的資料並針對以下欄位analysis_columns做分析並去除na值 (提示:先取完之後再.dropna())\n",
        "#   (提示:先取完之後再.dropna())\n",
        "df2=df[(df['main_use']=='住家用') & (df['use_zoning']=='住')]\n",
        "data=pd.DataFrame(df2,columns=analysis_columns)\n",
        "data=data.dropna()"
      ],
      "execution_count": 74,
      "outputs": []
    },
    {
      "cell_type": "code",
      "metadata": {
        "id": "Y5_BWtUpAtph",
        "colab": {
          "base_uri": "https://localhost:8080/"
        },
        "outputId": "d0334b90-908c-498e-f3ad-fcb60ed5c5e5"
      },
      "source": [
        "#3. 觀察欄位資料型態，並利用.astype()搭配以下提供的columns_type做欄位型態轉換\n",
        "data.info()\n",
        "data=data.astype(columns_type)\n",
        "data.info()"
      ],
      "execution_count": 75,
      "outputs": [
        {
          "output_type": "stream",
          "text": [
            "<class 'pandas.core.frame.DataFrame'>\n",
            "Int64Index: 5846 entries, 0 to 52149\n",
            "Data columns (total 12 columns):\n",
            " #   Column                      Non-Null Count  Dtype  \n",
            "---  ------                      --------------  -----  \n",
            " 0   city                        5846 non-null   object \n",
            " 1   towns                       5846 non-null   object \n",
            " 2   main_use                    5846 non-null   object \n",
            " 3   use_zoning                  5846 non-null   object \n",
            " 4   total_price                 5846 non-null   object \n",
            " 5   building_area_square_meter  5846 non-null   object \n",
            " 6   main_building_area          5846 non-null   float64\n",
            " 7   tx_dt                       5846 non-null   object \n",
            " 8   unit_price                  5846 non-null   object \n",
            " 9   room_number                 5846 non-null   object \n",
            " 10  hall_number                 5846 non-null   object \n",
            " 11  health_number               5846 non-null   object \n",
            "dtypes: float64(1), object(11)\n",
            "memory usage: 593.7+ KB\n",
            "<class 'pandas.core.frame.DataFrame'>\n",
            "Int64Index: 5846 entries, 0 to 52149\n",
            "Data columns (total 12 columns):\n",
            " #   Column                      Non-Null Count  Dtype  \n",
            "---  ------                      --------------  -----  \n",
            " 0   city                        5846 non-null   object \n",
            " 1   towns                       5846 non-null   object \n",
            " 2   main_use                    5846 non-null   object \n",
            " 3   use_zoning                  5846 non-null   object \n",
            " 4   total_price                 5846 non-null   int64  \n",
            " 5   building_area_square_meter  5846 non-null   float64\n",
            " 6   main_building_area          5846 non-null   float64\n",
            " 7   tx_dt                       5846 non-null   object \n",
            " 8   unit_price                  5846 non-null   float64\n",
            " 9   room_number                 5846 non-null   int64  \n",
            " 10  hall_number                 5846 non-null   int64  \n",
            " 11  health_number               5846 non-null   int64  \n",
            "dtypes: float64(3), int64(4), object(5)\n",
            "memory usage: 593.7+ KB\n"
          ],
          "name": "stdout"
        }
      ]
    },
    {
      "cell_type": "code",
      "metadata": {
        "scrolled": true,
        "id": "AxF8yHDeAtph"
      },
      "source": [
        "#4. 做資料切片將\n",
        "#     新增欄位交易年月日(tx_dt_year)，從交易年月日(tx_dt)萃取出年份\n",
        "#     1.交易年月日(tx_dt_year)，限制在109年\n",
        "#     2.建物現況格局-房(room_number)，限制在1到5間\n",
        "#     3.建物現況格局-廳(hall_number)，限制在1到2廳\n",
        "#     4.最後運用.reset_index()重新定義索引\n",
        "data['tx_dt_year']=data['tx_dt'].str[0:3]\n",
        "da2=data[(data['tx_dt_year']=='109') & (data['room_number'].between(1,5)) & (data['hall_number'].between(1,2))].reset_index(drop=True)"
      ],
      "execution_count": 88,
      "outputs": []
    },
    {
      "cell_type": "markdown",
      "metadata": {
        "id": "zTOTmNDxAtpi"
      },
      "source": [
        "# 3. 建立自定義特徵加入分析\n"
      ]
    },
    {
      "cell_type": "markdown",
      "metadata": {
        "id": "cyL2au1aAtpi"
      },
      "source": [
        "以台灣來說大家都是以坪為單位計算使用面積，應該是不會問說你家有幾平方公尺吧?，但是偏偏資料中沒有以坪為單位計算，所以接下來請各位幫忙產生新的欄位以坪為單位計算面積，轉換公式我也幫你找好了，在下面的定義。<br>\n",
        "定義 : 1平方公尺相當於0.3025坪 <br>\n",
        "建立新特徵\n",
        "1. 建物移轉總面積坪(building_area_square_feet) : 建物移轉總面積平方公尺\\*0.3025\n",
        "2. 主建物面積坪(main_building_area_square_feet) : 主建物面積\\*0.3025\n",
        "3. 單價元坪(unit_price_square_feet) : 單價元平方公尺/0.3025"
      ]
    },
    {
      "cell_type": "markdown",
      "metadata": {
        "id": "O-BL5boZAtpi"
      },
      "source": [
        "可以利用.describe()做一下資料觀察，是否有奇怪的資料?<br>\n",
        "如果有請將資料移除，並說明為什麼移除此資料?<br>\n",
        "移除後再用.describe()觀察是否還有奇怪的資料?"
      ]
    },
    {
      "cell_type": "code",
      "metadata": {
        "id": "vWILawwvAtpj",
        "colab": {
          "base_uri": "https://localhost:8080/",
          "height": 317
        },
        "outputId": "381d3c05-1034-469b-95a0-d8466ec61abe"
      },
      "source": [
        "# 建立新特徵\n",
        "# 1. 建物移轉總面積坪(building_area_square_feet) : 建物移轉總面積平方公尺*0.3025\n",
        "# 2. 主建物面積坪(main_building_area_square_feet) : 主建物面積*0.3025\n",
        "# 3. 單價元坪(unit_price_square_feet) : 單價元平方公尺/0.3025\n",
        "da2['building_area_square_feet']=da2['building_area_square_meter']*0.3025\n",
        "da2['main_building_area_square_feet']=da2['main_building_area']*0.3025\n",
        "da2['unit_price_square_feet']=da2['unit_price']/0.3025\n",
        "da2.describe()"
      ],
      "execution_count": 89,
      "outputs": [
        {
          "output_type": "execute_result",
          "data": {
            "text/html": [
              "<div>\n",
              "<style scoped>\n",
              "    .dataframe tbody tr th:only-of-type {\n",
              "        vertical-align: middle;\n",
              "    }\n",
              "\n",
              "    .dataframe tbody tr th {\n",
              "        vertical-align: top;\n",
              "    }\n",
              "\n",
              "    .dataframe thead th {\n",
              "        text-align: right;\n",
              "    }\n",
              "</style>\n",
              "<table border=\"1\" class=\"dataframe\">\n",
              "  <thead>\n",
              "    <tr style=\"text-align: right;\">\n",
              "      <th></th>\n",
              "      <th>total_price</th>\n",
              "      <th>building_area_square_meter</th>\n",
              "      <th>main_building_area</th>\n",
              "      <th>unit_price</th>\n",
              "      <th>room_number</th>\n",
              "      <th>hall_number</th>\n",
              "      <th>health_number</th>\n",
              "      <th>building_area_square_feet</th>\n",
              "      <th>main_building_area_square_feet</th>\n",
              "      <th>unit_price_square_feet</th>\n",
              "    </tr>\n",
              "  </thead>\n",
              "  <tbody>\n",
              "    <tr>\n",
              "      <th>count</th>\n",
              "      <td>5.107000e+03</td>\n",
              "      <td>5107.000000</td>\n",
              "      <td>5107.000000</td>\n",
              "      <td>5107.000000</td>\n",
              "      <td>5107.000000</td>\n",
              "      <td>5107.000000</td>\n",
              "      <td>5107.000000</td>\n",
              "      <td>5107.000000</td>\n",
              "      <td>5107.000000</td>\n",
              "      <td>5.107000e+03</td>\n",
              "    </tr>\n",
              "    <tr>\n",
              "      <th>mean</th>\n",
              "      <td>1.093848e+07</td>\n",
              "      <td>129.818696</td>\n",
              "      <td>87.709975</td>\n",
              "      <td>83916.289211</td>\n",
              "      <td>2.997846</td>\n",
              "      <td>1.819855</td>\n",
              "      <td>1.907186</td>\n",
              "      <td>39.270156</td>\n",
              "      <td>26.532267</td>\n",
              "      <td>2.774092e+05</td>\n",
              "    </tr>\n",
              "    <tr>\n",
              "      <th>std</th>\n",
              "      <td>1.313388e+07</td>\n",
              "      <td>68.756734</td>\n",
              "      <td>44.027464</td>\n",
              "      <td>66414.888039</td>\n",
              "      <td>0.942010</td>\n",
              "      <td>0.384346</td>\n",
              "      <td>0.772623</td>\n",
              "      <td>20.798912</td>\n",
              "      <td>13.318308</td>\n",
              "      <td>2.195533e+05</td>\n",
              "    </tr>\n",
              "    <tr>\n",
              "      <th>min</th>\n",
              "      <td>0.000000e+00</td>\n",
              "      <td>0.970000</td>\n",
              "      <td>0.000000</td>\n",
              "      <td>0.000000</td>\n",
              "      <td>1.000000</td>\n",
              "      <td>1.000000</td>\n",
              "      <td>1.000000</td>\n",
              "      <td>0.293425</td>\n",
              "      <td>0.000000</td>\n",
              "      <td>0.000000e+00</td>\n",
              "    </tr>\n",
              "    <tr>\n",
              "      <th>25%</th>\n",
              "      <td>4.395000e+06</td>\n",
              "      <td>86.215000</td>\n",
              "      <td>63.665000</td>\n",
              "      <td>42124.500000</td>\n",
              "      <td>3.000000</td>\n",
              "      <td>2.000000</td>\n",
              "      <td>1.000000</td>\n",
              "      <td>26.080037</td>\n",
              "      <td>19.258662</td>\n",
              "      <td>1.392545e+05</td>\n",
              "    </tr>\n",
              "    <tr>\n",
              "      <th>50%</th>\n",
              "      <td>7.000000e+06</td>\n",
              "      <td>116.970000</td>\n",
              "      <td>81.440000</td>\n",
              "      <td>56802.000000</td>\n",
              "      <td>3.000000</td>\n",
              "      <td>2.000000</td>\n",
              "      <td>2.000000</td>\n",
              "      <td>35.383425</td>\n",
              "      <td>24.635600</td>\n",
              "      <td>1.877752e+05</td>\n",
              "    </tr>\n",
              "    <tr>\n",
              "      <th>75%</th>\n",
              "      <td>1.300000e+07</td>\n",
              "      <td>158.180000</td>\n",
              "      <td>102.075000</td>\n",
              "      <td>108116.000000</td>\n",
              "      <td>3.000000</td>\n",
              "      <td>2.000000</td>\n",
              "      <td>2.000000</td>\n",
              "      <td>47.849450</td>\n",
              "      <td>30.877687</td>\n",
              "      <td>3.574083e+05</td>\n",
              "    </tr>\n",
              "    <tr>\n",
              "      <th>max</th>\n",
              "      <td>2.250000e+08</td>\n",
              "      <td>1444.950000</td>\n",
              "      <td>335.760000</td>\n",
              "      <td>610104.000000</td>\n",
              "      <td>5.000000</td>\n",
              "      <td>2.000000</td>\n",
              "      <td>6.000000</td>\n",
              "      <td>437.097375</td>\n",
              "      <td>101.567400</td>\n",
              "      <td>2.016873e+06</td>\n",
              "    </tr>\n",
              "  </tbody>\n",
              "</table>\n",
              "</div>"
            ],
            "text/plain": [
              "        total_price  ...  unit_price_square_feet\n",
              "count  5.107000e+03  ...            5.107000e+03\n",
              "mean   1.093848e+07  ...            2.774092e+05\n",
              "std    1.313388e+07  ...            2.195533e+05\n",
              "min    0.000000e+00  ...            0.000000e+00\n",
              "25%    4.395000e+06  ...            1.392545e+05\n",
              "50%    7.000000e+06  ...            1.877752e+05\n",
              "75%    1.300000e+07  ...            3.574083e+05\n",
              "max    2.250000e+08  ...            2.016873e+06\n",
              "\n",
              "[8 rows x 10 columns]"
            ]
          },
          "metadata": {
            "tags": []
          },
          "execution_count": 89
        }
      ]
    },
    {
      "cell_type": "code",
      "metadata": {
        "scrolled": true,
        "id": "ZuAZPbnNAtpj"
      },
      "source": [
        "# 可以利用.describe()做一下資料觀察，是否有奇怪的資料?\n",
        "# 如果有請將資料移除，並說明為什麼移除此資料?\n",
        "# Ans: 有,main_building_area=0\n",
        "da2=da2.loc[da2['main_building_area']!=0]"
      ],
      "execution_count": 90,
      "outputs": []
    },
    {
      "cell_type": "code",
      "metadata": {
        "id": "qED9ygBDAtpj",
        "colab": {
          "base_uri": "https://localhost:8080/",
          "height": 317
        },
        "outputId": "1c3ca906-1223-472f-8438-3d108a799666"
      },
      "source": [
        "# 移除後再用.describe()觀察是否還有奇怪的資料?\n",
        "da2.describe()"
      ],
      "execution_count": 91,
      "outputs": [
        {
          "output_type": "execute_result",
          "data": {
            "text/html": [
              "<div>\n",
              "<style scoped>\n",
              "    .dataframe tbody tr th:only-of-type {\n",
              "        vertical-align: middle;\n",
              "    }\n",
              "\n",
              "    .dataframe tbody tr th {\n",
              "        vertical-align: top;\n",
              "    }\n",
              "\n",
              "    .dataframe thead th {\n",
              "        text-align: right;\n",
              "    }\n",
              "</style>\n",
              "<table border=\"1\" class=\"dataframe\">\n",
              "  <thead>\n",
              "    <tr style=\"text-align: right;\">\n",
              "      <th></th>\n",
              "      <th>total_price</th>\n",
              "      <th>building_area_square_meter</th>\n",
              "      <th>main_building_area</th>\n",
              "      <th>unit_price</th>\n",
              "      <th>room_number</th>\n",
              "      <th>hall_number</th>\n",
              "      <th>health_number</th>\n",
              "      <th>building_area_square_feet</th>\n",
              "      <th>main_building_area_square_feet</th>\n",
              "      <th>unit_price_square_feet</th>\n",
              "    </tr>\n",
              "  </thead>\n",
              "  <tbody>\n",
              "    <tr>\n",
              "      <th>count</th>\n",
              "      <td>5.046000e+03</td>\n",
              "      <td>5046.000000</td>\n",
              "      <td>5046.000000</td>\n",
              "      <td>5046.000000</td>\n",
              "      <td>5046.000000</td>\n",
              "      <td>5046.000000</td>\n",
              "      <td>5046.000000</td>\n",
              "      <td>5046.000000</td>\n",
              "      <td>5046.000000</td>\n",
              "      <td>5.046000e+03</td>\n",
              "    </tr>\n",
              "    <tr>\n",
              "      <th>mean</th>\n",
              "      <td>1.099352e+07</td>\n",
              "      <td>129.882461</td>\n",
              "      <td>88.770281</td>\n",
              "      <td>84305.243757</td>\n",
              "      <td>2.996829</td>\n",
              "      <td>1.819461</td>\n",
              "      <td>1.907848</td>\n",
              "      <td>39.289445</td>\n",
              "      <td>26.853010</td>\n",
              "      <td>2.786950e+05</td>\n",
              "    </tr>\n",
              "    <tr>\n",
              "      <th>std</th>\n",
              "      <td>1.319582e+07</td>\n",
              "      <td>68.849035</td>\n",
              "      <td>43.217045</td>\n",
              "      <td>66686.502581</td>\n",
              "      <td>0.942126</td>\n",
              "      <td>0.384674</td>\n",
              "      <td>0.772951</td>\n",
              "      <td>20.826833</td>\n",
              "      <td>13.073156</td>\n",
              "      <td>2.204512e+05</td>\n",
              "    </tr>\n",
              "    <tr>\n",
              "      <th>min</th>\n",
              "      <td>4.100000e+05</td>\n",
              "      <td>7.440000</td>\n",
              "      <td>7.440000</td>\n",
              "      <td>3239.000000</td>\n",
              "      <td>1.000000</td>\n",
              "      <td>1.000000</td>\n",
              "      <td>1.000000</td>\n",
              "      <td>2.250600</td>\n",
              "      <td>2.250600</td>\n",
              "      <td>1.070744e+04</td>\n",
              "    </tr>\n",
              "    <tr>\n",
              "      <th>25%</th>\n",
              "      <td>4.400000e+06</td>\n",
              "      <td>86.427500</td>\n",
              "      <td>64.810000</td>\n",
              "      <td>42096.000000</td>\n",
              "      <td>3.000000</td>\n",
              "      <td>2.000000</td>\n",
              "      <td>1.000000</td>\n",
              "      <td>26.144319</td>\n",
              "      <td>19.605025</td>\n",
              "      <td>1.391603e+05</td>\n",
              "    </tr>\n",
              "    <tr>\n",
              "      <th>50%</th>\n",
              "      <td>7.000000e+06</td>\n",
              "      <td>116.950000</td>\n",
              "      <td>81.875000</td>\n",
              "      <td>56977.500000</td>\n",
              "      <td>3.000000</td>\n",
              "      <td>2.000000</td>\n",
              "      <td>2.000000</td>\n",
              "      <td>35.377375</td>\n",
              "      <td>24.767187</td>\n",
              "      <td>1.883554e+05</td>\n",
              "    </tr>\n",
              "    <tr>\n",
              "      <th>75%</th>\n",
              "      <td>1.310000e+07</td>\n",
              "      <td>157.857500</td>\n",
              "      <td>102.497500</td>\n",
              "      <td>110329.500000</td>\n",
              "      <td>3.000000</td>\n",
              "      <td>2.000000</td>\n",
              "      <td>2.000000</td>\n",
              "      <td>47.751894</td>\n",
              "      <td>31.005494</td>\n",
              "      <td>3.647256e+05</td>\n",
              "    </tr>\n",
              "    <tr>\n",
              "      <th>max</th>\n",
              "      <td>2.250000e+08</td>\n",
              "      <td>1444.950000</td>\n",
              "      <td>335.760000</td>\n",
              "      <td>610104.000000</td>\n",
              "      <td>5.000000</td>\n",
              "      <td>2.000000</td>\n",
              "      <td>6.000000</td>\n",
              "      <td>437.097375</td>\n",
              "      <td>101.567400</td>\n",
              "      <td>2.016873e+06</td>\n",
              "    </tr>\n",
              "  </tbody>\n",
              "</table>\n",
              "</div>"
            ],
            "text/plain": [
              "        total_price  ...  unit_price_square_feet\n",
              "count  5.046000e+03  ...            5.046000e+03\n",
              "mean   1.099352e+07  ...            2.786950e+05\n",
              "std    1.319582e+07  ...            2.204512e+05\n",
              "min    4.100000e+05  ...            1.070744e+04\n",
              "25%    4.400000e+06  ...            1.391603e+05\n",
              "50%    7.000000e+06  ...            1.883554e+05\n",
              "75%    1.310000e+07  ...            3.647256e+05\n",
              "max    2.250000e+08  ...            2.016873e+06\n",
              "\n",
              "[8 rows x 10 columns]"
            ]
          },
          "metadata": {
            "tags": []
          },
          "execution_count": 91
        }
      ]
    },
    {
      "cell_type": "markdown",
      "metadata": {
        "id": "uRcOUtYPAtpk"
      },
      "source": [
        "# 4. 找出台北市時價登入總價高度相關的變數"
      ]
    },
    {
      "cell_type": "markdown",
      "metadata": {
        "id": "sMgZ6PbwAtpk"
      },
      "source": [
        "阿宏我是台北人他想找出影響台北市總價、單價元坪的因子<br>\n",
        "相關係數0.3以下為低相關，0.3\\~0.7為中等相關，0.7以上為高度相關<br>\n",
        "1. 資料切片切出city欄位為台北市的資料，並找出時價登入總價(total_price)高度相關的變數\n",
        "2. 資料切片切出city欄位為台北市的資料，找出單價元坪(unit_price_square_feet)高度相關的變數"
      ]
    },
    {
      "cell_type": "code",
      "metadata": {
        "id": "UZyUNLQzAtpm",
        "colab": {
          "base_uri": "https://localhost:8080/",
          "height": 360
        },
        "outputId": "4fe3f184-9547-4691-cb38-cd9dedfe38d2"
      },
      "source": [
        "# 阿宏我是台北人他想找出影響台北市總價、單價元坪的因子\n",
        "# 1. 資料切片切出city欄位為台北市的資料，並找出時價登入總價(total_price)高度相關的變數\n",
        "\n",
        "# 2. 資料切片切出city欄位為台北市的資料，找出單價元坪(unit_price_square_feet)高度相關的變數\n",
        "da2.loc[da2.city=='Taipei'].corr()[['total_price','unit_price_square_feet']]"
      ],
      "execution_count": 92,
      "outputs": [
        {
          "output_type": "execute_result",
          "data": {
            "text/html": [
              "<div>\n",
              "<style scoped>\n",
              "    .dataframe tbody tr th:only-of-type {\n",
              "        vertical-align: middle;\n",
              "    }\n",
              "\n",
              "    .dataframe tbody tr th {\n",
              "        vertical-align: top;\n",
              "    }\n",
              "\n",
              "    .dataframe thead th {\n",
              "        text-align: right;\n",
              "    }\n",
              "</style>\n",
              "<table border=\"1\" class=\"dataframe\">\n",
              "  <thead>\n",
              "    <tr style=\"text-align: right;\">\n",
              "      <th></th>\n",
              "      <th>total_price</th>\n",
              "      <th>unit_price_square_feet</th>\n",
              "    </tr>\n",
              "  </thead>\n",
              "  <tbody>\n",
              "    <tr>\n",
              "      <th>total_price</th>\n",
              "      <td>1.000000</td>\n",
              "      <td>0.581290</td>\n",
              "    </tr>\n",
              "    <tr>\n",
              "      <th>building_area_square_meter</th>\n",
              "      <td>0.864627</td>\n",
              "      <td>0.218185</td>\n",
              "    </tr>\n",
              "    <tr>\n",
              "      <th>main_building_area</th>\n",
              "      <td>0.710515</td>\n",
              "      <td>0.112488</td>\n",
              "    </tr>\n",
              "    <tr>\n",
              "      <th>unit_price</th>\n",
              "      <td>0.581290</td>\n",
              "      <td>1.000000</td>\n",
              "    </tr>\n",
              "    <tr>\n",
              "      <th>room_number</th>\n",
              "      <td>0.326441</td>\n",
              "      <td>-0.100062</td>\n",
              "    </tr>\n",
              "    <tr>\n",
              "      <th>hall_number</th>\n",
              "      <td>0.270787</td>\n",
              "      <td>0.004883</td>\n",
              "    </tr>\n",
              "    <tr>\n",
              "      <th>health_number</th>\n",
              "      <td>0.598832</td>\n",
              "      <td>0.128217</td>\n",
              "    </tr>\n",
              "    <tr>\n",
              "      <th>building_area_square_feet</th>\n",
              "      <td>0.864627</td>\n",
              "      <td>0.218185</td>\n",
              "    </tr>\n",
              "    <tr>\n",
              "      <th>main_building_area_square_feet</th>\n",
              "      <td>0.710515</td>\n",
              "      <td>0.112488</td>\n",
              "    </tr>\n",
              "    <tr>\n",
              "      <th>unit_price_square_feet</th>\n",
              "      <td>0.581290</td>\n",
              "      <td>1.000000</td>\n",
              "    </tr>\n",
              "  </tbody>\n",
              "</table>\n",
              "</div>"
            ],
            "text/plain": [
              "                                total_price  unit_price_square_feet\n",
              "total_price                        1.000000                0.581290\n",
              "building_area_square_meter         0.864627                0.218185\n",
              "main_building_area                 0.710515                0.112488\n",
              "unit_price                         0.581290                1.000000\n",
              "room_number                        0.326441               -0.100062\n",
              "hall_number                        0.270787                0.004883\n",
              "health_number                      0.598832                0.128217\n",
              "building_area_square_feet          0.864627                0.218185\n",
              "main_building_area_square_feet     0.710515                0.112488\n",
              "unit_price_square_feet             0.581290                1.000000"
            ]
          },
          "metadata": {
            "tags": []
          },
          "execution_count": 92
        }
      ]
    },
    {
      "cell_type": "markdown",
      "metadata": {
        "id": "-y15EpRMAtpm"
      },
      "source": [
        "# 5. 資料視覺化並解釋\n"
      ]
    },
    {
      "cell_type": "markdown",
      "metadata": {
        "id": "TuAbtSFfAtpn"
      },
      "source": [
        "我想要以視覺化的方式來看房價資料，並且請各位資料科學家解釋圖表給阿宏我知道\n",
        "1. 以城市(city)為x軸，以單價元坪(unit_price_square_feet)為y軸畫出boxplot，並找出單價元坪(unit_price_square_feet)中位數最高的地區\n",
        "2. 進一步對台北市的資料做圖，以建物現況格局-房(room_number)為x軸，以總價元(total_price)為y軸畫出boxplot，並找出總價元(total_price)中位數最高的房間數。hint:資料切片找出city欄位為台北市的資料，再進一步畫圖\n",
        "3. 對台北市的資料做圖，先將地區(twons)做編碼在進行，再以地區(twon)為x軸，以單價元坪(unit_price_square_feet)為y軸畫出boxplot，並找出單價元坪(unit_price_square_feet)中位數最高的地區。hint:運用LabelEncoder()對地區(twons)做編碼，運用.inverse_transform()反查編碼的地區"
      ]
    },
    {
      "cell_type": "code",
      "metadata": {
        "scrolled": false,
        "id": "AeGKqgwIAtpn",
        "colab": {
          "base_uri": "https://localhost:8080/",
          "height": 466
        },
        "outputId": "0004760d-d562-43da-df44-39eddd8b3034"
      },
      "source": [
        "#1. 以城市(city)為x軸，以單價元坪(unit_price_square_feet)為y軸畫出boxplot，並找出單價元坪(unit_price_square_feet)中位數最高的地區\n",
        "da2.boxplot(column=['unit_price_square_feet'],by='city',figsize=(16,6))"
      ],
      "execution_count": 93,
      "outputs": [
        {
          "output_type": "stream",
          "text": [
            "/usr/local/lib/python3.7/dist-packages/numpy/core/_asarray.py:83: VisibleDeprecationWarning: Creating an ndarray from ragged nested sequences (which is a list-or-tuple of lists-or-tuples-or ndarrays with different lengths or shapes) is deprecated. If you meant to do this, you must specify 'dtype=object' when creating the ndarray\n",
            "  return array(a, dtype, copy=False, order=order)\n"
          ],
          "name": "stderr"
        },
        {
          "output_type": "execute_result",
          "data": {
            "text/plain": [
              "<matplotlib.axes._subplots.AxesSubplot at 0x7f0d705f1210>"
            ]
          },
          "metadata": {
            "tags": []
          },
          "execution_count": 93
        },
        {
          "output_type": "display_data",
          "data": {
            "image/png": "[encoded data removed]",
            "text/plain": [
              "<Figure size 1152x432 with 1 Axes>"
            ]
          },
          "metadata": {
            "tags": [],
            "needs_background": "light"
          }
        }
      ]
    },
    {
      "cell_type": "code",
      "metadata": {
        "id": "2_sM72QLAtpn",
        "colab": {
          "base_uri": "https://localhost:8080/",
          "height": 470
        },
        "outputId": "d23573d8-66fd-4fee-b4d4-a29fb5b2f016"
      },
      "source": [
        "#2. 進一步對台北市的資料做圖，以建物現況格局-房(room_number)為x軸，以總價元(total_price)為y軸畫出boxplot，並找出總價元(total_price)中位數最高的房間數。hint:資料切片找出city欄位為台北市的資料，再進一步畫圖\n",
        "da2.loc[da2.city=='Taipei'].boxplot(column=['total_price'],by='room_number',figsize=(16,6))"
      ],
      "execution_count": 94,
      "outputs": [
        {
          "output_type": "stream",
          "text": [
            "/usr/local/lib/python3.7/dist-packages/numpy/core/_asarray.py:83: VisibleDeprecationWarning: Creating an ndarray from ragged nested sequences (which is a list-or-tuple of lists-or-tuples-or ndarrays with different lengths or shapes) is deprecated. If you meant to do this, you must specify 'dtype=object' when creating the ndarray\n",
            "  return array(a, dtype, copy=False, order=order)\n"
          ],
          "name": "stderr"
        },
        {
          "output_type": "execute_result",
          "data": {
            "text/plain": [
              "<matplotlib.axes._subplots.AxesSubplot at 0x7f0d6fda3f90>"
            ]
          },
          "metadata": {
            "tags": []
          },
          "execution_count": 94
        },
        {
          "output_type": "display_data",
          "data": {
            "image/png": "[encoded data removed]",
            "text/plain": [
              "<Figure size 1152x432 with 1 Axes>"
            ]
          },
          "metadata": {
            "tags": [],
            "needs_background": "light"
          }
        }
      ]
    },
    {
      "cell_type": "code",
      "metadata": {
        "id": "PatbpuqLAtpo"
      },
      "source": [
        "#3. 對台北市的資料做圖，先將地區(twons)做編碼在進行，再以地區(twon)為x軸，以單價元坪(unit_price_square_feet)為y軸畫出boxplot，並找出單價元坪(unit_price_square_feet)中位數最高的地區。\n",
        "# hint:運用LabelEncoder()對地區(twons)做編碼，運用.inverse_transform()反查編碼的地區\n",
        "from sklearn.preprocessing import LabelEncoder\n",
        "le = LabelEncoder().fit(da2['towns'].values)\n",
        "da2['new_towns'] = le.transform(da2['towns'].values)"
      ],
      "execution_count": 97,
      "outputs": []
    },
    {
      "cell_type": "code",
      "metadata": {
        "colab": {
          "base_uri": "https://localhost:8080/",
          "height": 470
        },
        "id": "WXU5vlSshlTJ",
        "outputId": "fec98106-4d1c-4f1f-c09e-7efd21cb982b"
      },
      "source": [
        "da2.loc[da2.city=='Taipei'].boxplot(column=['unit_price_square_feet'],by='new_towns',figsize=(16,6))"
      ],
      "execution_count": 99,
      "outputs": [
        {
          "output_type": "stream",
          "text": [
            "/usr/local/lib/python3.7/dist-packages/numpy/core/_asarray.py:83: VisibleDeprecationWarning: Creating an ndarray from ragged nested sequences (which is a list-or-tuple of lists-or-tuples-or ndarrays with different lengths or shapes) is deprecated. If you meant to do this, you must specify 'dtype=object' when creating the ndarray\n",
            "  return array(a, dtype, copy=False, order=order)\n"
          ],
          "name": "stderr"
        },
        {
          "output_type": "execute_result",
          "data": {
            "text/plain": [
              "<matplotlib.axes._subplots.AxesSubplot at 0x7f0d608864d0>"
            ]
          },
          "metadata": {
            "tags": []
          },
          "execution_count": 99
        },
        {
          "output_type": "display_data",
          "data": {
            "image/png": "[encoded data removed]",
            "text/plain": [
              "<Figure size 1152x432 with 1 Axes>"
            ]
          },
          "metadata": {
            "tags": [],
            "needs_background": "light"
          }
        }
      ]
    },
    {
      "cell_type": "code",
      "metadata": {
        "colab": {
          "base_uri": "https://localhost:8080/"
        },
        "id": "hbZ9y6-ziQaV",
        "outputId": "08a190af-83f1-471e-8706-245d9a330215"
      },
      "source": [
        "le.inverse_transform([19])"
      ],
      "execution_count": 103,
      "outputs": [
        {
          "output_type": "execute_result",
          "data": {
            "text/plain": [
              "array(['大安區'], dtype=object)"
            ]
          },
          "metadata": {
            "tags": []
          },
          "execution_count": 103
        }
      ]
    }
  ]
}