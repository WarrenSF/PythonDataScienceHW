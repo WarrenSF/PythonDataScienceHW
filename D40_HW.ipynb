{
  "nbformat": 4,
  "nbformat_minor": 0,
  "metadata": {
    "colab": {
      "name": "6.從資料中產生特徵_作業.ipynb",
      "provenance": []
    },
    "kernelspec": {
      "display_name": "Python 3",
      "language": "python",
      "name": "python3"
    },
    "language_info": {
      "codemirror_mode": {
        "name": "ipython",
        "version": 3
      },
      "file_extension": ".py",
      "mimetype": "text/x-python",
      "name": "python",
      "nbconvert_exporter": "python",
      "pygments_lexer": "ipython3",
      "version": "3.6.10"
    }
  },
  "cells": [
    {
      "cell_type": "markdown",
      "metadata": {
        "id": "hIM5xAA7KP74"
      },
      "source": [
        "## 今天的作業\n",
        "在鐵達尼資料集中，今天我們專注觀察變數之間的相關性，以Titanic_train.csv 中，首先將有遺失值的數值刪除，我們取 Titanic_train.csv 的年齡資料，試著將課堂中所學的方法應用上去。\n",
        "\n",
        "* Q1: 產生一個新的變數(Age_above65_) Age>=65為 'Y'，其餘為'N'。  \n",
        "* Q2: 添加女性和男性，產生一個新的變數(Age_above65_female)，女性或Age>=65為'Y'，其餘為'N'。  \n",
        "*  Q3: 透過昨天課程的內容，驗證產生的兩個新變數，哪一個和目標變數(Survived_cate)的相關性較高?"
      ]
    },
    {
      "cell_type": "code",
      "metadata": {
        "colab": {
          "base_uri": "https://localhost:8080/",
          "height": 34
        },
        "id": "yz28_IgkYdBW",
        "outputId": "a12f486c-18b3-4fb5-d06c-f162aebd9444"
      },
      "source": [
        "# library\n",
        "import matplotlib.pyplot as plt\n",
        "import numpy as np\n",
        "import pandas as pd\n",
        "from scipy import stats\n",
        "import math\n",
        "import statistics\n",
        "import seaborn as sns\n",
        "from IPython.display import display\n",
        "import sklearn\n",
        "print(sklearn.__version__)\n",
        "#如果只有 0.19 記得要更新至 最新版本\n",
        "%matplotlib inline\n",
        "\n",
        "\n",
        "#顯示所有行\n",
        "pd.set_option('display.max_columns', None)\n",
        "#顯示所有列\n",
        "pd.set_option('display.max_rows', None)\n",
        "#顯示行設定\n",
        "pd.set_option('max_colwidth',100)\n",
        "\n",
        "import pingouin as pg\n",
        "import researchpy   \n",
        " "
      ],
      "execution_count": null,
      "outputs": [
        {
          "output_type": "stream",
          "text": [
            "0.23.1\n"
          ],
          "name": "stdout"
        }
      ]
    },
    {
      "cell_type": "markdown",
      "metadata": {
        "id": "xoVKy1iBKP77"
      },
      "source": [
        "## 讀入資料"
      ]
    },
    {
      "cell_type": "code",
      "metadata": {
        "colab": {
          "base_uri": "https://localhost:8080/"
        },
        "id": "koNaRdhjKP78",
        "outputId": "bc64024f-6f9c-4214-917f-b38e543e5421"
      },
      "source": [
        "df_train = pd.read_csv(\"Titanic_train.csv\")\n",
        "print(df_train.info())"
      ],
      "execution_count": 2,
      "outputs": [
        {
          "output_type": "stream",
          "text": [
            "<class 'pandas.core.frame.DataFrame'>\n",
            "RangeIndex: 891 entries, 0 to 890\n",
            "Data columns (total 12 columns):\n",
            " #   Column       Non-Null Count  Dtype  \n",
            "---  ------       --------------  -----  \n",
            " 0   PassengerId  891 non-null    int64  \n",
            " 1   Survived     891 non-null    int64  \n",
            " 2   Pclass       891 non-null    int64  \n",
            " 3   Name         891 non-null    object \n",
            " 4   Sex          891 non-null    object \n",
            " 5   Age          714 non-null    float64\n",
            " 6   SibSp        891 non-null    int64  \n",
            " 7   Parch        891 non-null    int64  \n",
            " 8   Ticket       891 non-null    object \n",
            " 9   Fare         891 non-null    float64\n",
            " 10  Cabin        204 non-null    object \n",
            " 11  Embarked     889 non-null    object \n",
            "dtypes: float64(2), int64(5), object(5)\n",
            "memory usage: 83.7+ KB\n",
            "None\n"
          ],
          "name": "stdout"
        }
      ]
    },
    {
      "cell_type": "code",
      "metadata": {
        "colab": {
          "base_uri": "https://localhost:8080/"
        },
        "id": "m-K0tNBIKP78",
        "outputId": "36af9060-f790-427a-8fbe-f7ede1aa4553"
      },
      "source": [
        "#1.產稱一個新的變數 Survived_cate ，資料型態傳換成類別型態      \n",
        "#2.把題目中的 Survived 用 Survived_cate 來做分析    \n",
        "df_train['Survived_cate']=df_train['Survived']\n",
        "df_train['Survived_cate']=df_train['Survived_cate'].astype('object')\n",
        "print(df_train.info())"
      ],
      "execution_count": 3,
      "outputs": [
        {
          "output_type": "stream",
          "text": [
            "<class 'pandas.core.frame.DataFrame'>\n",
            "RangeIndex: 891 entries, 0 to 890\n",
            "Data columns (total 13 columns):\n",
            " #   Column         Non-Null Count  Dtype  \n",
            "---  ------         --------------  -----  \n",
            " 0   PassengerId    891 non-null    int64  \n",
            " 1   Survived       891 non-null    int64  \n",
            " 2   Pclass         891 non-null    int64  \n",
            " 3   Name           891 non-null    object \n",
            " 4   Sex            891 non-null    object \n",
            " 5   Age            714 non-null    float64\n",
            " 6   SibSp          891 non-null    int64  \n",
            " 7   Parch          891 non-null    int64  \n",
            " 8   Ticket         891 non-null    object \n",
            " 9   Fare           891 non-null    float64\n",
            " 10  Cabin          204 non-null    object \n",
            " 11  Embarked       889 non-null    object \n",
            " 12  Survived_cate  891 non-null    object \n",
            "dtypes: float64(2), int64(5), object(6)\n",
            "memory usage: 90.6+ KB\n",
            "None\n"
          ],
          "name": "stdout"
        }
      ]
    },
    {
      "cell_type": "code",
      "metadata": {
        "colab": {
          "base_uri": "https://localhost:8080/",
          "height": 402
        },
        "id": "KUxpyPEfKP79",
        "outputId": "e4bf121b-a46c-4fed-a4c8-aaf8b548a3c4"
      },
      "source": [
        "#我們先把遺失值刪除\n",
        "## 取出資料後，把遺失值刪除\n",
        "complete_data=df_train[['Age','Survived_cate','Sex']].dropna()\n",
        "display(complete_data)"
      ],
      "execution_count": 17,
      "outputs": [
        {
          "output_type": "display_data",
          "data": {
            "text/html": [
              "<div>\n",
              "<style scoped>\n",
              "    .dataframe tbody tr th:only-of-type {\n",
              "        vertical-align: middle;\n",
              "    }\n",
              "\n",
              "    .dataframe tbody tr th {\n",
              "        vertical-align: top;\n",
              "    }\n",
              "\n",
              "    .dataframe thead th {\n",
              "        text-align: right;\n",
              "    }\n",
              "</style>\n",
              "<table border=\"1\" class=\"dataframe\">\n",
              "  <thead>\n",
              "    <tr style=\"text-align: right;\">\n",
              "      <th></th>\n",
              "      <th>Age</th>\n",
              "      <th>Survived_cate</th>\n",
              "      <th>Sex</th>\n",
              "    </tr>\n",
              "  </thead>\n",
              "  <tbody>\n",
              "    <tr>\n",
              "      <th>0</th>\n",
              "      <td>22.0</td>\n",
              "      <td>0</td>\n",
              "      <td>male</td>\n",
              "    </tr>\n",
              "    <tr>\n",
              "      <th>1</th>\n",
              "      <td>38.0</td>\n",
              "      <td>1</td>\n",
              "      <td>female</td>\n",
              "    </tr>\n",
              "    <tr>\n",
              "      <th>2</th>\n",
              "      <td>26.0</td>\n",
              "      <td>1</td>\n",
              "      <td>female</td>\n",
              "    </tr>\n",
              "    <tr>\n",
              "      <th>3</th>\n",
              "      <td>35.0</td>\n",
              "      <td>1</td>\n",
              "      <td>female</td>\n",
              "    </tr>\n",
              "    <tr>\n",
              "      <th>4</th>\n",
              "      <td>35.0</td>\n",
              "      <td>0</td>\n",
              "      <td>male</td>\n",
              "    </tr>\n",
              "    <tr>\n",
              "      <th>...</th>\n",
              "      <td>...</td>\n",
              "      <td>...</td>\n",
              "      <td>...</td>\n",
              "    </tr>\n",
              "    <tr>\n",
              "      <th>885</th>\n",
              "      <td>39.0</td>\n",
              "      <td>0</td>\n",
              "      <td>female</td>\n",
              "    </tr>\n",
              "    <tr>\n",
              "      <th>886</th>\n",
              "      <td>27.0</td>\n",
              "      <td>0</td>\n",
              "      <td>male</td>\n",
              "    </tr>\n",
              "    <tr>\n",
              "      <th>887</th>\n",
              "      <td>19.0</td>\n",
              "      <td>1</td>\n",
              "      <td>female</td>\n",
              "    </tr>\n",
              "    <tr>\n",
              "      <th>889</th>\n",
              "      <td>26.0</td>\n",
              "      <td>1</td>\n",
              "      <td>male</td>\n",
              "    </tr>\n",
              "    <tr>\n",
              "      <th>890</th>\n",
              "      <td>32.0</td>\n",
              "      <td>0</td>\n",
              "      <td>male</td>\n",
              "    </tr>\n",
              "  </tbody>\n",
              "</table>\n",
              "<p>714 rows × 3 columns</p>\n",
              "</div>"
            ],
            "text/plain": [
              "      Age Survived_cate     Sex\n",
              "0    22.0             0    male\n",
              "1    38.0             1  female\n",
              "2    26.0             1  female\n",
              "3    35.0             1  female\n",
              "4    35.0             0    male\n",
              "..    ...           ...     ...\n",
              "885  39.0             0  female\n",
              "886  27.0             0    male\n",
              "887  19.0             1  female\n",
              "889  26.0             1    male\n",
              "890  32.0             0    male\n",
              "\n",
              "[714 rows x 3 columns]"
            ]
          },
          "metadata": {
            "tags": []
          }
        }
      ]
    },
    {
      "cell_type": "markdown",
      "metadata": {
        "id": "sqcJ4QHYKP79"
      },
      "source": [
        "### Q1: 產生一個新的變數(Age_above65_) Age>=65為 'Y'，其餘為'N'。\n"
      ]
    },
    {
      "cell_type": "code",
      "metadata": {
        "colab": {
          "base_uri": "https://localhost:8080/",
          "height": 402
        },
        "id": "ElaxQKiHPtg2",
        "outputId": "b08afbea-defb-451c-dfaf-fb5f7e23a66f"
      },
      "source": [
        "## 數值到分類的映射\n",
        "# 運用 apply function  做變數轉換\n",
        "def Age_above65(x): \n",
        "    if(x>=65):\n",
        "        return('Y')\n",
        "    else: \n",
        "        return('N')\n",
        "    \n",
        "complete_data['Age_above65_']=complete_data['Age'].apply(Age_above65)\n",
        "\n",
        "display(complete_data)"
      ],
      "execution_count": 18,
      "outputs": [
        {
          "output_type": "display_data",
          "data": {
            "text/html": [
              "<div>\n",
              "<style scoped>\n",
              "    .dataframe tbody tr th:only-of-type {\n",
              "        vertical-align: middle;\n",
              "    }\n",
              "\n",
              "    .dataframe tbody tr th {\n",
              "        vertical-align: top;\n",
              "    }\n",
              "\n",
              "    .dataframe thead th {\n",
              "        text-align: right;\n",
              "    }\n",
              "</style>\n",
              "<table border=\"1\" class=\"dataframe\">\n",
              "  <thead>\n",
              "    <tr style=\"text-align: right;\">\n",
              "      <th></th>\n",
              "      <th>Age</th>\n",
              "      <th>Survived_cate</th>\n",
              "      <th>Sex</th>\n",
              "      <th>Age_above65_</th>\n",
              "    </tr>\n",
              "  </thead>\n",
              "  <tbody>\n",
              "    <tr>\n",
              "      <th>0</th>\n",
              "      <td>22.0</td>\n",
              "      <td>0</td>\n",
              "      <td>male</td>\n",
              "      <td>N</td>\n",
              "    </tr>\n",
              "    <tr>\n",
              "      <th>1</th>\n",
              "      <td>38.0</td>\n",
              "      <td>1</td>\n",
              "      <td>female</td>\n",
              "      <td>N</td>\n",
              "    </tr>\n",
              "    <tr>\n",
              "      <th>2</th>\n",
              "      <td>26.0</td>\n",
              "      <td>1</td>\n",
              "      <td>female</td>\n",
              "      <td>N</td>\n",
              "    </tr>\n",
              "    <tr>\n",
              "      <th>3</th>\n",
              "      <td>35.0</td>\n",
              "      <td>1</td>\n",
              "      <td>female</td>\n",
              "      <td>N</td>\n",
              "    </tr>\n",
              "    <tr>\n",
              "      <th>4</th>\n",
              "      <td>35.0</td>\n",
              "      <td>0</td>\n",
              "      <td>male</td>\n",
              "      <td>N</td>\n",
              "    </tr>\n",
              "    <tr>\n",
              "      <th>...</th>\n",
              "      <td>...</td>\n",
              "      <td>...</td>\n",
              "      <td>...</td>\n",
              "      <td>...</td>\n",
              "    </tr>\n",
              "    <tr>\n",
              "      <th>885</th>\n",
              "      <td>39.0</td>\n",
              "      <td>0</td>\n",
              "      <td>female</td>\n",
              "      <td>N</td>\n",
              "    </tr>\n",
              "    <tr>\n",
              "      <th>886</th>\n",
              "      <td>27.0</td>\n",
              "      <td>0</td>\n",
              "      <td>male</td>\n",
              "      <td>N</td>\n",
              "    </tr>\n",
              "    <tr>\n",
              "      <th>887</th>\n",
              "      <td>19.0</td>\n",
              "      <td>1</td>\n",
              "      <td>female</td>\n",
              "      <td>N</td>\n",
              "    </tr>\n",
              "    <tr>\n",
              "      <th>889</th>\n",
              "      <td>26.0</td>\n",
              "      <td>1</td>\n",
              "      <td>male</td>\n",
              "      <td>N</td>\n",
              "    </tr>\n",
              "    <tr>\n",
              "      <th>890</th>\n",
              "      <td>32.0</td>\n",
              "      <td>0</td>\n",
              "      <td>male</td>\n",
              "      <td>N</td>\n",
              "    </tr>\n",
              "  </tbody>\n",
              "</table>\n",
              "<p>714 rows × 4 columns</p>\n",
              "</div>"
            ],
            "text/plain": [
              "      Age Survived_cate     Sex Age_above65_\n",
              "0    22.0             0    male            N\n",
              "1    38.0             1  female            N\n",
              "2    26.0             1  female            N\n",
              "3    35.0             1  female            N\n",
              "4    35.0             0    male            N\n",
              "..    ...           ...     ...          ...\n",
              "885  39.0             0  female            N\n",
              "886  27.0             0    male            N\n",
              "887  19.0             1  female            N\n",
              "889  26.0             1    male            N\n",
              "890  32.0             0    male            N\n",
              "\n",
              "[714 rows x 4 columns]"
            ]
          },
          "metadata": {
            "tags": []
          }
        }
      ]
    },
    {
      "cell_type": "markdown",
      "metadata": {
        "id": "lD-ey-ZOKP79"
      },
      "source": [
        "### Q2: 添加女性和男性，產生一個新的變數(Age_above65_female)，女性或Age>=65為'Y'，其餘為'N'。\n",
        "* 暗示: 觀看下面影片找答案，https://www.youtube.com/watch?v=X2d-wUt5azY"
      ]
    },
    {
      "cell_type": "code",
      "metadata": {
        "colab": {
          "base_uri": "https://localhost:8080/",
          "height": 343
        },
        "id": "opxYbO30RorQ",
        "outputId": "ad36e870-c598-4c7d-e777-fd4a0180afd1"
      },
      "source": [
        "def female65(row):\n",
        "    if row.Sex == 'female' or row.Age >= 65:\n",
        "        return 'Y'\n",
        "    else:\n",
        "        return 'N'\n",
        "    \n",
        "complete_data['Age_above65_female']=complete_data.apply(female65, axis=1)\n",
        "\n",
        "display(complete_data.head(10))"
      ],
      "execution_count": 19,
      "outputs": [
        {
          "output_type": "display_data",
          "data": {
            "text/html": [
              "<div>\n",
              "<style scoped>\n",
              "    .dataframe tbody tr th:only-of-type {\n",
              "        vertical-align: middle;\n",
              "    }\n",
              "\n",
              "    .dataframe tbody tr th {\n",
              "        vertical-align: top;\n",
              "    }\n",
              "\n",
              "    .dataframe thead th {\n",
              "        text-align: right;\n",
              "    }\n",
              "</style>\n",
              "<table border=\"1\" class=\"dataframe\">\n",
              "  <thead>\n",
              "    <tr style=\"text-align: right;\">\n",
              "      <th></th>\n",
              "      <th>Age</th>\n",
              "      <th>Survived_cate</th>\n",
              "      <th>Sex</th>\n",
              "      <th>Age_above65_</th>\n",
              "      <th>Age_above65_female</th>\n",
              "    </tr>\n",
              "  </thead>\n",
              "  <tbody>\n",
              "    <tr>\n",
              "      <th>0</th>\n",
              "      <td>22.0</td>\n",
              "      <td>0</td>\n",
              "      <td>male</td>\n",
              "      <td>N</td>\n",
              "      <td>N</td>\n",
              "    </tr>\n",
              "    <tr>\n",
              "      <th>1</th>\n",
              "      <td>38.0</td>\n",
              "      <td>1</td>\n",
              "      <td>female</td>\n",
              "      <td>N</td>\n",
              "      <td>Y</td>\n",
              "    </tr>\n",
              "    <tr>\n",
              "      <th>2</th>\n",
              "      <td>26.0</td>\n",
              "      <td>1</td>\n",
              "      <td>female</td>\n",
              "      <td>N</td>\n",
              "      <td>Y</td>\n",
              "    </tr>\n",
              "    <tr>\n",
              "      <th>3</th>\n",
              "      <td>35.0</td>\n",
              "      <td>1</td>\n",
              "      <td>female</td>\n",
              "      <td>N</td>\n",
              "      <td>Y</td>\n",
              "    </tr>\n",
              "    <tr>\n",
              "      <th>4</th>\n",
              "      <td>35.0</td>\n",
              "      <td>0</td>\n",
              "      <td>male</td>\n",
              "      <td>N</td>\n",
              "      <td>N</td>\n",
              "    </tr>\n",
              "    <tr>\n",
              "      <th>6</th>\n",
              "      <td>54.0</td>\n",
              "      <td>0</td>\n",
              "      <td>male</td>\n",
              "      <td>N</td>\n",
              "      <td>N</td>\n",
              "    </tr>\n",
              "    <tr>\n",
              "      <th>7</th>\n",
              "      <td>2.0</td>\n",
              "      <td>0</td>\n",
              "      <td>male</td>\n",
              "      <td>N</td>\n",
              "      <td>N</td>\n",
              "    </tr>\n",
              "    <tr>\n",
              "      <th>8</th>\n",
              "      <td>27.0</td>\n",
              "      <td>1</td>\n",
              "      <td>female</td>\n",
              "      <td>N</td>\n",
              "      <td>Y</td>\n",
              "    </tr>\n",
              "    <tr>\n",
              "      <th>9</th>\n",
              "      <td>14.0</td>\n",
              "      <td>1</td>\n",
              "      <td>female</td>\n",
              "      <td>N</td>\n",
              "      <td>Y</td>\n",
              "    </tr>\n",
              "    <tr>\n",
              "      <th>10</th>\n",
              "      <td>4.0</td>\n",
              "      <td>1</td>\n",
              "      <td>female</td>\n",
              "      <td>N</td>\n",
              "      <td>Y</td>\n",
              "    </tr>\n",
              "  </tbody>\n",
              "</table>\n",
              "</div>"
            ],
            "text/plain": [
              "     Age Survived_cate     Sex Age_above65_ Age_above65_female\n",
              "0   22.0             0    male            N                  N\n",
              "1   38.0             1  female            N                  Y\n",
              "2   26.0             1  female            N                  Y\n",
              "3   35.0             1  female            N                  Y\n",
              "4   35.0             0    male            N                  N\n",
              "6   54.0             0    male            N                  N\n",
              "7    2.0             0    male            N                  N\n",
              "8   27.0             1  female            N                  Y\n",
              "9   14.0             1  female            N                  Y\n",
              "10   4.0             1  female            N                  Y"
            ]
          },
          "metadata": {
            "tags": []
          }
        }
      ]
    },
    {
      "cell_type": "markdown",
      "metadata": {
        "id": "P_PLiZn1KP7-"
      },
      "source": [
        "### Q3: 透過昨天課程的內容，驗證產生的兩個新變數，哪一個和目標變數(Survived_cate)的相關性較高?\n",
        "* 提示:    \n",
        "  首先觀察一下這些變數的資料型態後，再來想要以哪一種判斷倆倆的相關性。     "
      ]
    },
    {
      "cell_type": "code",
      "metadata": {
        "colab": {
          "base_uri": "https://localhost:8080/"
        },
        "id": "y9H0fQ0LWS7R",
        "outputId": "17d45a3c-38b9-44ed-db0d-37896e13e3fa"
      },
      "source": [
        "complete_data.info()"
      ],
      "execution_count": 21,
      "outputs": [
        {
          "output_type": "stream",
          "text": [
            "<class 'pandas.core.frame.DataFrame'>\n",
            "Int64Index: 714 entries, 0 to 890\n",
            "Data columns (total 5 columns):\n",
            " #   Column              Non-Null Count  Dtype  \n",
            "---  ------              --------------  -----  \n",
            " 0   Age                 714 non-null    float64\n",
            " 1   Survived_cate       714 non-null    object \n",
            " 2   Sex                 714 non-null    object \n",
            " 3   Age_above65_        714 non-null    object \n",
            " 4   Age_above65_female  714 non-null    object \n",
            "dtypes: float64(1), object(4)\n",
            "memory usage: 33.5+ KB\n"
          ],
          "name": "stdout"
        }
      ]
    },
    {
      "cell_type": "code",
      "metadata": {
        "colab": {
          "base_uri": "https://localhost:8080/"
        },
        "id": "l-UE8gWCdJkV",
        "outputId": "634210bd-6077-4287-f50f-39831bba788d"
      },
      "source": [
        "!pip install researchpy\n",
        "\n",
        "import researchpy  "
      ],
      "execution_count": 23,
      "outputs": [
        {
          "output_type": "stream",
          "text": [
            "Collecting researchpy\n",
            "  Downloading https://files.pythonhosted.org/packages/8f/20/e2787cd5eb6d4cfd6bc1f42f5218ca6a2f5552a9fcf021095cd07a4071fd/researchpy-0.3.2-py3-none-any.whl\n",
            "Requirement already satisfied: pandas in /usr/local/lib/python3.7/dist-packages (from researchpy) (1.1.5)\n",
            "Requirement already satisfied: patsy in /usr/local/lib/python3.7/dist-packages (from researchpy) (0.5.1)\n",
            "Requirement already satisfied: numpy in /usr/local/lib/python3.7/dist-packages (from researchpy) (1.19.5)\n",
            "Requirement already satisfied: statsmodels in /usr/local/lib/python3.7/dist-packages (from researchpy) (0.10.2)\n",
            "Requirement already satisfied: scipy in /usr/local/lib/python3.7/dist-packages (from researchpy) (1.4.1)\n",
            "Requirement already satisfied: python-dateutil>=2.7.3 in /usr/local/lib/python3.7/dist-packages (from pandas->researchpy) (2.8.1)\n",
            "Requirement already satisfied: pytz>=2017.2 in /usr/local/lib/python3.7/dist-packages (from pandas->researchpy) (2018.9)\n",
            "Requirement already satisfied: six in /usr/local/lib/python3.7/dist-packages (from patsy->researchpy) (1.15.0)\n",
            "Installing collected packages: researchpy\n",
            "Successfully installed researchpy-0.3.2\n"
          ],
          "name": "stdout"
        },
        {
          "output_type": "stream",
          "text": [
            "/usr/local/lib/python3.7/dist-packages/statsmodels/tools/_testing.py:19: FutureWarning: pandas.util.testing is deprecated. Use the functions in the public API at pandas.testing instead.\n",
            "  import pandas.util.testing as tm\n"
          ],
          "name": "stderr"
        }
      ]
    },
    {
      "cell_type": "code",
      "metadata": {
        "colab": {
          "base_uri": "https://localhost:8080/",
          "height": 136
        },
        "id": "B5OyxFLucaRV",
        "outputId": "77d9c646-bb6b-4be8-fccd-de5baa623267"
      },
      "source": [
        "#step1: 用交叉列連表(contingency table)，來整理兩個類別型的資料\n",
        "contTable = pd.crosstab(complete_data['Survived_cate'], complete_data['Age_above65_'])\n",
        "contTable"
      ],
      "execution_count": 25,
      "outputs": [
        {
          "output_type": "execute_result",
          "data": {
            "text/html": [
              "<div>\n",
              "<style scoped>\n",
              "    .dataframe tbody tr th:only-of-type {\n",
              "        vertical-align: middle;\n",
              "    }\n",
              "\n",
              "    .dataframe tbody tr th {\n",
              "        vertical-align: top;\n",
              "    }\n",
              "\n",
              "    .dataframe thead th {\n",
              "        text-align: right;\n",
              "    }\n",
              "</style>\n",
              "<table border=\"1\" class=\"dataframe\">\n",
              "  <thead>\n",
              "    <tr style=\"text-align: right;\">\n",
              "      <th>Age_above65_</th>\n",
              "      <th>N</th>\n",
              "      <th>Y</th>\n",
              "    </tr>\n",
              "    <tr>\n",
              "      <th>Survived_cate</th>\n",
              "      <th></th>\n",
              "      <th></th>\n",
              "    </tr>\n",
              "  </thead>\n",
              "  <tbody>\n",
              "    <tr>\n",
              "      <th>0</th>\n",
              "      <td>414</td>\n",
              "      <td>10</td>\n",
              "    </tr>\n",
              "    <tr>\n",
              "      <th>1</th>\n",
              "      <td>289</td>\n",
              "      <td>1</td>\n",
              "    </tr>\n",
              "  </tbody>\n",
              "</table>\n",
              "</div>"
            ],
            "text/plain": [
              "Age_above65_     N   Y\n",
              "Survived_cate         \n",
              "0              414  10\n",
              "1              289   1"
            ]
          },
          "metadata": {
            "tags": []
          },
          "execution_count": 25
        }
      ]
    },
    {
      "cell_type": "code",
      "metadata": {
        "colab": {
          "base_uri": "https://localhost:8080/"
        },
        "id": "ERqDVKBMdt7t",
        "outputId": "b8abbe3c-2305-4c34-82a3-2d141ffc12fe"
      },
      "source": [
        "#Step2:計算資料自由度 df*\n",
        "df = min(contTable.shape[0], contTable.shape[1]) - 1\n",
        "df"
      ],
      "execution_count": 26,
      "outputs": [
        {
          "output_type": "execute_result",
          "data": {
            "text/plain": [
              "1"
            ]
          },
          "metadata": {
            "tags": []
          },
          "execution_count": 26
        }
      ]
    },
    {
      "cell_type": "code",
      "metadata": {
        "colab": {
          "base_uri": "https://localhost:8080/"
        },
        "id": "LUJ9pntud8qs",
        "outputId": "b3828484-40e2-4e77-879a-bce613af1a45"
      },
      "source": [
        "#Step3:運用 researchpy 套件，計算出 Cramer’s V 係數\n",
        "crosstab, res = researchpy.crosstab(complete_data['Survived_cate'], complete_data['Age_above65_'], test='chi-square')\n",
        "#print(res)\n",
        "print(\"Cramer's value is\",res.loc[2,'results'])"
      ],
      "execution_count": 28,
      "outputs": [
        {
          "output_type": "stream",
          "text": [
            "Cramer's value is 0.0803\n"
          ],
          "name": "stdout"
        }
      ]
    },
    {
      "cell_type": "code",
      "metadata": {
        "colab": {
          "base_uri": "https://localhost:8080/",
          "height": 35
        },
        "id": "DUjnHJZVeiOH",
        "outputId": "92e44cfb-a14b-4b7a-e6c3-4d3ebff2f349"
      },
      "source": [
        "## 寫一個副程式判斷相關性的強度\n",
        "def judgment_CramerV(df,V):\n",
        "    if df == 1:\n",
        "        if V < 0.10:\n",
        "            qual = 'negligible'\n",
        "        elif V < 0.30:\n",
        "            qual = 'small'\n",
        "        elif V < 0.50:\n",
        "            qual = 'medium'\n",
        "        else:\n",
        "            qual = 'large'\n",
        "    elif df == 2:\n",
        "        if V < 0.07:\n",
        "            qual = 'negligible'\n",
        "        elif V < 0.21:\n",
        "            qual = 'small'\n",
        "        elif V < 0.35:\n",
        "            qual = 'medium'\n",
        "        else:\n",
        "            qual = 'large'\n",
        "    elif df == 3:\n",
        "        if V < 0.06:\n",
        "            qual = 'negligible'\n",
        "        elif V < 0.17:\n",
        "            qual = 'small'\n",
        "        elif V < 0.29:\n",
        "            qual = 'medium'\n",
        "        else:\n",
        "            qual = 'large'\n",
        "    elif df == 4:\n",
        "        if V < 0.05:\n",
        "            qual = 'negligible'\n",
        "        elif V < 0.15:\n",
        "            qual = 'small'\n",
        "        elif V < 0.25:\n",
        "            qual = 'medium'\n",
        "        else:\n",
        "            qual = 'large'\n",
        "    else:\n",
        "        if V < 0.05:\n",
        "            qual = 'negligible'\n",
        "        elif V < 0.13:\n",
        "            qual = 'small'\n",
        "        elif V < 0.22:\n",
        "            qual = 'medium'\n",
        "        else:\n",
        "            qual = 'large'\n",
        "    return(qual)\n",
        "\n",
        "judgment_CramerV(df,res.loc[2,'results'])"
      ],
      "execution_count": 29,
      "outputs": [
        {
          "output_type": "execute_result",
          "data": {
            "application/vnd.google.colaboratory.intrinsic+json": {
              "type": "string"
            },
            "text/plain": [
              "'negligible'"
            ]
          },
          "metadata": {
            "tags": []
          },
          "execution_count": 29
        }
      ]
    },
    {
      "cell_type": "code",
      "metadata": {
        "colab": {
          "base_uri": "https://localhost:8080/",
          "height": 136
        },
        "id": "s2wlSqy5e4h-",
        "outputId": "ead61ec1-0d4a-43ed-d7f9-e289b861e8fe"
      },
      "source": [
        "#step1: 用交叉列連表(contingency table)，來整理兩個類別型的資料\n",
        "contTable2 = pd.crosstab(complete_data['Survived_cate'], complete_data['Age_above65_female'])\n",
        "contTable2"
      ],
      "execution_count": 30,
      "outputs": [
        {
          "output_type": "execute_result",
          "data": {
            "text/html": [
              "<div>\n",
              "<style scoped>\n",
              "    .dataframe tbody tr th:only-of-type {\n",
              "        vertical-align: middle;\n",
              "    }\n",
              "\n",
              "    .dataframe tbody tr th {\n",
              "        vertical-align: top;\n",
              "    }\n",
              "\n",
              "    .dataframe thead th {\n",
              "        text-align: right;\n",
              "    }\n",
              "</style>\n",
              "<table border=\"1\" class=\"dataframe\">\n",
              "  <thead>\n",
              "    <tr style=\"text-align: right;\">\n",
              "      <th>Age_above65_female</th>\n",
              "      <th>N</th>\n",
              "      <th>Y</th>\n",
              "    </tr>\n",
              "    <tr>\n",
              "      <th>Survived_cate</th>\n",
              "      <th></th>\n",
              "      <th></th>\n",
              "    </tr>\n",
              "  </thead>\n",
              "  <tbody>\n",
              "    <tr>\n",
              "      <th>0</th>\n",
              "      <td>350</td>\n",
              "      <td>74</td>\n",
              "    </tr>\n",
              "    <tr>\n",
              "      <th>1</th>\n",
              "      <td>92</td>\n",
              "      <td>198</td>\n",
              "    </tr>\n",
              "  </tbody>\n",
              "</table>\n",
              "</div>"
            ],
            "text/plain": [
              "Age_above65_female    N    Y\n",
              "Survived_cate               \n",
              "0                   350   74\n",
              "1                    92  198"
            ]
          },
          "metadata": {
            "tags": []
          },
          "execution_count": 30
        }
      ]
    },
    {
      "cell_type": "code",
      "metadata": {
        "colab": {
          "base_uri": "https://localhost:8080/"
        },
        "id": "G_qixUYLfEb2",
        "outputId": "bf2e2cd0-ba0e-4950-d0f1-876d6b696fff"
      },
      "source": [
        "#Step2:計算資料自由度 df*\n",
        "df2 = min(contTable2.shape[0], contTable2.shape[1]) - 1\n",
        "df2"
      ],
      "execution_count": 34,
      "outputs": [
        {
          "output_type": "execute_result",
          "data": {
            "text/plain": [
              "1"
            ]
          },
          "metadata": {
            "tags": []
          },
          "execution_count": 34
        }
      ]
    },
    {
      "cell_type": "code",
      "metadata": {
        "colab": {
          "base_uri": "https://localhost:8080/"
        },
        "id": "g7KSkfXDfI0F",
        "outputId": "a9595e33-3dd4-4b12-bc75-6b3767f4828f"
      },
      "source": [
        "#Step3:運用 researchpy 套件，計算出 Cramer’s V 係數\n",
        "crosstab2, res2 = researchpy.crosstab(complete_data['Survived_cate'], complete_data['Age_above65_female'], test='chi-square')\n",
        "#print(res)\n",
        "print(\"Cramer's value is\",res2.loc[2,'results'])"
      ],
      "execution_count": 33,
      "outputs": [
        {
          "output_type": "stream",
          "text": [
            "Cramer's value is 0.514\n"
          ],
          "name": "stdout"
        }
      ]
    },
    {
      "cell_type": "code",
      "metadata": {
        "colab": {
          "base_uri": "https://localhost:8080/",
          "height": 35
        },
        "id": "0Pae_HOBfUSY",
        "outputId": "f2d1c7bf-a226-4754-9c3f-4b480b24baa7"
      },
      "source": [
        "judgment_CramerV(df2,res2.loc[2,'results'])\n",
        "# Ans: Age_above65_female和Survived_cate,呈現高度相關"
      ],
      "execution_count": 35,
      "outputs": [
        {
          "output_type": "execute_result",
          "data": {
            "application/vnd.google.colaboratory.intrinsic+json": {
              "type": "string"
            },
            "text/plain": [
              "'large'"
            ]
          },
          "metadata": {
            "tags": []
          },
          "execution_count": 35
        }
      ]
    }
  ]
}