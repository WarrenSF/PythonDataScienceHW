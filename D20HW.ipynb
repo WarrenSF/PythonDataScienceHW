{
  "nbformat": 4,
  "nbformat_minor": 0,
  "metadata": {
    "colab": {
      "name": "D19作業題目.ipynb",
      "provenance": [],
      "collapsed_sections": []
    },
    "kernelspec": {
      "name": "python3",
      "display_name": "Python 3"
    }
  },
  "cells": [
    {
      "cell_type": "code",
      "metadata": {
        "id": "OQe8v83AJpLv"
      },
      "source": [
        "#1.在速度較慢的時候，可以先從哪邊開始檢查？\n",
        "#Ans:檢查讀取資料的型態,是否使用Python的內建函式"
      ],
      "execution_count": null,
      "outputs": []
    },
    {
      "cell_type": "code",
      "metadata": {
        "id": "Km8hM4qJJqwd"
      },
      "source": [
        "#2.資料過大時應採取什麼方式讓記憶體占用量下降？\n",
        "#Ans:欄位的型態降級有助於減少記憶體佔用空間"
      ],
      "execution_count": null,
      "outputs": []
    },
    {
      "cell_type": "code",
      "metadata": {
        "id": "wGFAn8bhcUK6"
      },
      "source": [
        ""
      ],
      "execution_count": null,
      "outputs": []
    }
  ]
}