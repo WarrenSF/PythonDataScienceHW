{
  "nbformat": 4,
  "nbformat_minor": 0,
  "metadata": {
    "colab": {
      "name": "D27作業.ipynb",
      "provenance": [],
      "collapsed_sections": []
    },
    "kernelspec": {
      "display_name": "Python 3",
      "language": "python",
      "name": "python3"
    },
    "language_info": {
      "codemirror_mode": {
        "name": "ipython",
        "version": 3
      },
      "file_extension": ".py",
      "mimetype": "text/x-python",
      "name": "python",
      "nbconvert_exporter": "python",
      "pygments_lexer": "ipython3",
      "version": "3.6.10"
    }
  },
  "cells": [
    {
      "cell_type": "markdown",
      "metadata": {
        "id": "H-z4L8J371GO"
      },
      "source": [
        "## 作業:\n",
        "今天學到不同統計量之間特性，  \n",
        "試著分析男生女生身高資料，  \n",
        "試著回答下面的問題:  \n",
        "Q1:試著用今天所教的內容，如何描述這兩組資料的樣態?    \n",
        "Q2: 請問男生和女生在平均身高上誰比較高?   \n",
        "Q3:請問第二題的答案和日常生活中觀察的一致嗎? 如果不一致，你覺得原因可能為何?    \n",
        "上述問題透過  python 語法進行運算，\n",
        "並將上述答案填寫在 (google 表單)[https://docs.google.com/forms/d/e/1FAIpQLSdDzwpeJl8YLPwZaW8pBZvtuXY9kIbbZLqxcXyzFaoraV5JEA/viewform ]\n",
        "![](作業資料圖檔.PNG)"
      ]
    },
    {
      "cell_type": "code",
      "metadata": {
        "collapsed": true,
        "id": "yz28_IgkYdBW"
      },
      "source": [
        "# library\n",
        "import matplotlib.pyplot as plt\n",
        "import numpy as np\n",
        "import pandas as pd\n",
        "from scipy import stats\n",
        "import math\n",
        "import statistics\n",
        "import seaborn as sns"
      ],
      "execution_count": 1,
      "outputs": []
    },
    {
      "cell_type": "code",
      "metadata": {
        "id": "3NtzuWtt71GU"
      },
      "source": [
        "## 輸入資料\n",
        "boys=[164, 176, 169, 169, 165, 175, 159, 151, 144, 160, 183, 165, 156, 170,\n",
        " 164, 173, 165, 163, 177, 171]\n",
        "girls=[169,170,162,154,183,173,169,167,170,185,162,175,168,151,181,170,182,156,159,160]"
      ],
      "execution_count": 2,
      "outputs": []
    },
    {
      "cell_type": "code",
      "metadata": {
        "colab": {
          "base_uri": "https://localhost:8080/"
        },
        "id": "nn2v0RYD6xkd",
        "outputId": "2fab1b25-9aef-4db1-c27b-0376189d20b6"
      },
      "source": [
        "#Q1:試著用今天所教的內容，如何描述這兩組資料的樣態?\n",
        "#暗示:  分別計算男生和女生的統計量\n",
        "\n",
        "#統計量可分為三類及集中趨勢、離散程度、分布型態\n",
        "\n",
        "print(\"----------集中趨勢----------\")\n",
        "#集中趨勢為口語上的平均，表示一個機率分布的中間值。\n",
        "# 集中趨勢--1.平均數(mean)\n",
        "mean_boy=np.mean(boys)\n",
        "print(\"男孩身高平均=\",mean_boy)\n",
        "statistics_mean_girl=statistics.mean(girls)\n",
        "print(\"女孩身高平均=\",statistics_mean_girl,'\\n')\n",
        "\n",
        "# 集中趨勢--2.中位數(madian)\n",
        "np_median_boy=np.median(boys,axis=None)\n",
        "print(\"男孩身高中位數=\",np_median_boy)\n",
        "statistics_median_girl=statistics.median(girls)\n",
        "print(\"女孩身高中位數=\",statistics_median_girl,'\\n')\n",
        "\n",
        "# 集中趨勢--3.眾數(mode)\n",
        "# 統計量的眾數，如果有多個眾數，取最小的值當眾數。\n",
        "mode_boy=stats.mode(boys,axis=None)\n",
        "print(\"男孩身高眾數=\",mode_boy[0][0])\n",
        "statistics_mode_girl=statistics.mode(girls)\n",
        "print(\"女孩身高眾數=\",statistics_mode_girl,'\\n')\n",
        "\n",
        "print(\"----------離散趨勢----------\")\n",
        "# 離散趨勢--1.全距(Range)\n",
        "def rangeV(x): \n",
        "  return(max(x)-min(x))\n",
        "    \n",
        "print(\"男孩身高全距=\",rangeV(boys))\n",
        "print(\"女孩身高全距=\",rangeV(girls),'\\n')\n",
        "\n",
        "# 離散趨勢--2.變異數(Variance)\n",
        "print(\"男孩身高變異數=\",np.var(boys,ddof=1))\n",
        "print(\"女孩身高變異數=\",statistics.variance(girls),'\\n')\n",
        "\n",
        "# 離散趨勢--3.標準差(Standard Deviation)\n",
        "#ddof=1, 回傳樣本標準差，分母(n-1)，無偏估計\n",
        "print(\"男孩身高標準差=\",np.std(boys,ddof=1))\n",
        "print(\"女孩身高標準差=\",statistics.stdev(girls),'\\n')\n",
        "\n",
        "# 離散趨勢--4.百分位數(Percentile)\n",
        "print(\"男孩90百分位數=\",np.percentile(boys, 90))\n",
        "print(\"男孩50百分位數=\",np.percentile(boys, 50))\n",
        "print(\"男孩20百分位數=\",np.percentile(boys, 20))\n",
        "print(\"女孩90百分位數=\",stats.scoreatpercentile(girls, 90))\n",
        "print(\"女孩50百分位數=\",stats.scoreatpercentile(girls, 50))\n",
        "print(\"女孩20百分位數=\",stats.scoreatpercentile(girls, 20),'\\n')\n",
        "\n",
        "print(\"----------分布型態----------\")\n",
        "# 分布型態--偏度(Skewness) <0為左偏態，>0則為右偏態,日常生活數據常見右偏態分布\n",
        "print(\"男孩身高偏度=\",stats.skew(boys))\n",
        "print(\"女孩身高偏度=\",stats.skew(girls),'\\n')\n",
        "\n",
        "# 分布型態--峰度(Kurtosis)\n",
        "print(\"男孩身高峰度=\",stats.kurtosis(boys))\n",
        "print(\"女孩身高峰度=\",stats.kurtosis(girls))\n"
      ],
      "execution_count": 40,
      "outputs": [
        {
          "output_type": "stream",
          "text": [
            "----------集中趨勢----------\n",
            "男孩身高平均= 165.95\n",
            "女孩身高平均= 168.3 \n",
            "\n",
            "男孩身高中位數= 165.0\n",
            "女孩身高中位數= 169.0 \n",
            "\n",
            "男孩身高眾數= 165\n",
            "女孩身高眾數= 170 \n",
            "\n",
            "----------離散趨勢----------\n",
            "男孩身高全距= 39\n",
            "女孩身高全距= 34 \n",
            "\n",
            "男孩身高變異數= 84.89210526315789\n",
            "女孩身高變異數= 95.37894736842105 \n",
            "\n",
            "男孩身高標準差= 9.213691185575838\n",
            "女孩身高標準差= 9.766214587465353 \n",
            "\n",
            "男孩90百分位數= 176.1\n",
            "男孩50百分位數= 165.0\n",
            "男孩20百分位數= 159.8\n",
            "女孩90百分位數= 182.1\n",
            "女孩50百分位數= 169.0\n",
            "女孩20百分位數= 159.8 \n",
            "\n",
            "----------分布型態----------\n",
            "男孩身高偏度= -0.47132127317376954\n",
            "女孩身高偏度= 0.059853211293650746 \n",
            "\n",
            "男孩身高峰度= 0.19395882957876331\n",
            "女孩身高峰度= -0.8203607083948947\n"
          ],
          "name": "stdout"
        }
      ]
    },
    {
      "cell_type": "code",
      "metadata": {
        "colab": {
          "base_uri": "https://localhost:8080/",
          "height": 545
        },
        "id": "DHfs07BeC1OG",
        "outputId": "1ad54b8c-0553-470a-b1fa-13a489487578"
      },
      "source": [
        "#畫圖看分布\n",
        "plt.hist(boys,alpha=.4,bins=40)\n",
        "plt.title('boy,skewness={0},kurtosis={1}'.format(round(stats.skew(boys),2),round(stats.kurtosis(boys),2)))\n",
        "plt.axvline(x=mean_boy)\n",
        "plt.show()\n",
        "\n",
        "plt.hist(girls,alpha=.4,bins=40, color = \"#D9B3B3\")\n",
        "plt.title('girl,skewness={0},kurtosis={1}'.format(round(stats.skew(girls),2),round(stats.kurtosis(girls),2)))\n",
        "plt.axvline(x=mean_girl, color = \"#B87070\")\n",
        "plt.show()"
      ],
      "execution_count": 28,
      "outputs": [
        {
          "output_type": "display_data",
          "data": {
            "image/png": "[encoded data removed]",
            "text/plain": [
              "<Figure size 432x288 with 1 Axes>"
            ]
          },
          "metadata": {
            "tags": [],
            "needs_background": "light"
          }
        },
        {
          "output_type": "display_data",
          "data": {
            "image/png": "[encoded data removed]",
            "text/plain": [
              "<Figure size 432x288 with 1 Axes>"
            ]
          },
          "metadata": {
            "tags": [],
            "needs_background": "light"
          }
        }
      ]
    },
    {
      "cell_type": "code",
      "metadata": {
        "id": "xH_GNsC271GW",
        "colab": {
          "base_uri": "https://localhost:8080/"
        },
        "outputId": "b96e871b-12f5-41b3-9c5e-ba1f3176bdc0"
      },
      "source": [
        "#Q2: 請問男生和女生在平均身高上誰比較高? \n",
        "mean_boy=np.mean(boys)\n",
        "mean_girl=np.mean(girls)\n",
        "if mean_boy>mean_girl:\n",
        "  print(\"男生高\")\n",
        "elif mean_boy<mean_girl:\n",
        "  print(\"女生高\")\n",
        "else:\n",
        "  print(\"一樣高\")"
      ],
      "execution_count": 24,
      "outputs": [
        {
          "output_type": "stream",
          "text": [
            "女生高\n"
          ],
          "name": "stdout"
        }
      ]
    },
    {
      "cell_type": "code",
      "metadata": {
        "colab": {
          "base_uri": "https://localhost:8080/"
        },
        "id": "2bh56ptOSUsy",
        "outputId": "280f6bdb-4e12-486b-e0b4-20838bd3ccd5"
      },
      "source": [
        "boys = pd.Series( [164, 176, 169, 169, 165, 175, 159, 151, 144, 160, 183, 165, 156, 170, 164, 173, 165, 163, 177, 171] )\n",
        "girls= pd.Series( [169, 183, 170, 168, 182, 170, 173, 185, 151, 156, 162, 169, 162, 181, 159, 154, 167, 175, 170, 160] )\n",
        "\n",
        "\n",
        "# Q1: 試著用今天所教的內容，如何描述這兩組資料的樣態?\n",
        "# 暗示: 分別計算男生和女生的統計量\n",
        "# Ans: 女生的資料分布較男生集中；平均身高女生較男生高；女生身高的中位數亦較男生高。\n",
        "\n",
        "for sex, data in zip( ['Boys','Girls'], [boys,girls] ):\n",
        "    print( sex, ':' )\n",
        "    print( 'Mean(平均值) = ', data.describe()[1] )\n",
        "    print( 'Standard Deviation(標準差) = ', data.describe()[2] )\n",
        "    print( 'Minimum(最小值) = ', data.describe()[3] )\n",
        "    print( '25th percentile = ', data.describe()[4] )\n",
        "    print( '50th percentile(中位數) = ', data.describe()[5] )\n",
        "    print( '75th percentile = ', data.describe()[6] )\n",
        "    print( 'Maximum(最大值) = ', data.describe()[7] )\n",
        "    print( 'Range(全距) = ', data.describe()[7]-data.describe()[3] )\n",
        "    print( 'Variance(變異數) = ', np.var( data, ddof=1 ) )\n",
        "    print( 'Skewness(偏度) = ', stats.skew( data ) )\n",
        "    print( 'Kurtosis(峰度) = ', stats.kurtosis( data ) )\n",
        "    print( '' )"
      ],
      "execution_count": 48,
      "outputs": [
        {
          "output_type": "stream",
          "text": [
            "Boys :\n",
            "Mean(平均值) =  165.95\n",
            "Standard Deviation(標準差) =  9.213691185575838\n",
            "Minimum(最小值) =  144.0\n",
            "25th percentile =  162.25\n",
            "50th percentile(中位數) =  165.0\n",
            "75th percentile =  171.5\n",
            "Maximum(最大值) =  183.0\n",
            "Range(全距) =  39.0\n",
            "Variance(變異數) =  84.89210526315789\n",
            "Skewness(偏度) =  -0.47132127317376954\n",
            "Kurtosis(峰度) =  0.19395882957876331\n",
            "\n",
            "Girls :\n",
            "Mean(平均值) =  168.3\n",
            "Standard Deviation(標準差) =  9.766214587465353\n",
            "Minimum(最小值) =  151.0\n",
            "25th percentile =  161.5\n",
            "50th percentile(中位數) =  169.0\n",
            "75th percentile =  173.5\n",
            "Maximum(最大值) =  185.0\n",
            "Range(全距) =  34.0\n",
            "Variance(變異數) =  95.37894736842104\n",
            "Skewness(偏度) =  0.05985321129365068\n",
            "Kurtosis(峰度) =  -0.8203607083948947\n",
            "\n"
          ],
          "name": "stdout"
        }
      ]
    }
  ]
}