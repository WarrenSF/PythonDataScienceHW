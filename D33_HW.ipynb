{
  "nbformat": 4,
  "nbformat_minor": 0,
  "metadata": {
    "colab": {
      "name": "D33作業.ipynb",
      "provenance": []
    },
    "kernelspec": {
      "display_name": "Python 3",
      "language": "python",
      "name": "python3"
    },
    "language_info": {
      "codemirror_mode": {
        "name": "ipython",
        "version": 3
      },
      "file_extension": ".py",
      "mimetype": "text/x-python",
      "name": "python",
      "nbconvert_exporter": "python",
      "pygments_lexer": "ipython3",
      "version": "3.6.1"
    }
  },
  "cells": [
    {
      "cell_type": "markdown",
      "metadata": {
        "id": "4yabXKPWeG2Z"
      },
      "source": [
        "## 作業:\n",
        "在課堂中，檢定 𝐻_0:𝜇≤0， 𝐻_1:𝜇>0 ，假設在 𝐻_0 為真下，分配為 N(0,1)， 𝐻_1 為真下，分配為 N(2,1)。      \n",
        "假設 𝑋 ̅>1，拒絕 𝐻_0。         \n",
        "如果拒絕域改變時，𝛼 和 𝛽 會怎樣變化，       \n",
        "![](sample mean 1.png)\n",
        "可以拿起一張紙，試著畫畫看，就能找到答案。"
      ]
    },
    {
      "cell_type": "markdown",
      "metadata": {
        "id": "f2vfygXfeG2f"
      },
      "source": [
        "### Q1: 假設 𝑋 ̅>2，拒絕 𝐻_0，𝛼 會變大/變小? 𝛽 會變大/變小? \n"
      ]
    },
    {
      "cell_type": "code",
      "metadata": {
        "colab": {
          "base_uri": "https://localhost:8080/",
          "height": 35
        },
        "id": "_1g7dMsNeG2f",
        "outputId": "4024d600-2469-4f73-ed21-529b9bcdfe8d"
      },
      "source": [
        "'''\n",
        " 𝛼會變小，𝛽會變大\n",
        "'''"
      ],
      "execution_count": 4,
      "outputs": [
        {
          "output_type": "execute_result",
          "data": {
            "application/vnd.google.colaboratory.intrinsic+json": {
              "type": "string"
            },
            "text/plain": [
              "'\\n 𝛼會變小，𝛽會變大\\n'"
            ]
          },
          "metadata": {
            "tags": []
          },
          "execution_count": 4
        }
      ]
    },
    {
      "cell_type": "markdown",
      "metadata": {
        "id": "26kQMnJ7eG2g"
      },
      "source": [
        "### Q2: 假設 𝑋 ̅>0.2，拒絕 𝐻_0，𝛼 會變大/變小? 𝛽 會變大/變小? \n"
      ]
    },
    {
      "cell_type": "code",
      "metadata": {
        "colab": {
          "base_uri": "https://localhost:8080/",
          "height": 35
        },
        "id": "dM5FCOY4eG2h",
        "outputId": "91fb011a-5ef4-4aef-8526-d361ebf40c49"
      },
      "source": [
        "'''\n",
        " 𝛼會變大，𝛽會變小\n",
        "'''"
      ],
      "execution_count": 5,
      "outputs": [
        {
          "output_type": "execute_result",
          "data": {
            "application/vnd.google.colaboratory.intrinsic+json": {
              "type": "string"
            },
            "text/plain": [
              "'\\n 𝛼會變大，𝛽會變小\\n'"
            ]
          },
          "metadata": {
            "tags": []
          },
          "execution_count": 5
        }
      ]
    },
    {
      "cell_type": "markdown",
      "metadata": {
        "id": "tMskAP4JeG2h"
      },
      "source": [
        "### Q3: 𝛼 和 𝛽  有關聯性?"
      ]
    },
    {
      "cell_type": "code",
      "metadata": {
        "colab": {
          "base_uri": "https://localhost:8080/",
          "height": 35
        },
        "id": "igVLd_28eG2h",
        "outputId": "2b83be28-261a-4523-e40b-f8ca4108ab6c"
      },
      "source": [
        "'''\n",
        "有關聯性\n",
        "'''"
      ],
      "execution_count": 6,
      "outputs": [
        {
          "output_type": "execute_result",
          "data": {
            "application/vnd.google.colaboratory.intrinsic+json": {
              "type": "string"
            },
            "text/plain": [
              "'\\n有關聯性\\n'"
            ]
          },
          "metadata": {
            "tags": []
          },
          "execution_count": 6
        }
      ]
    }
  ]
}