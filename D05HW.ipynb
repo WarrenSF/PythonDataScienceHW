{
  "nbformat": 4,
  "nbformat_minor": 0,
  "metadata": {
    "colab": {
      "name": "D05作業題目.ipynb",
      "provenance": [],
      "collapsed_sections": []
    },
    "kernelspec": {
      "name": "python3",
      "display_name": "Python 3"
    }
  },
  "cells": [
    {
      "cell_type": "markdown",
      "metadata": {
        "id": "oef8c2jr-PZY"
      },
      "source": [
        "作業目標<br>\r\n",
        "計算有缺失值的資料，統計量實作<br>\r\n",
        "作業重點<br>\r\n",
        "當遇到缺失值有函式可以處理，不須額外寫程式刪除<br>\r\n",
        "計算統計量時不能出現缺失值"
      ]
    },
    {
      "cell_type": "markdown",
      "metadata": {
        "id": "4YgL8NF4-Ru3"
      },
      "source": [
        "題目:<br>\r\n",
        "english_score = np.array([55,89,76,65,48,70])<br>\r\n",
        "math_score = np.array([60,85,60,68,np.nan,60])<br>\r\n",
        "chinese_score = np.array([65,90,82,72,66,77])<br>\r\n",
        "上3列共六位同學的英文、數學、國文成績，第一個元素代表第一位同學，舉例第一位同學英文55分、數學60分、國文65分，今天第五位同學因某原因沒來考試，導致數學成績缺值，運用上列數據回答下列問題。<br>\r\n",
        "1. 請計算各科成績平均、最大值、最小值、標準差，其中數學缺一筆資料可忽略?\r\n",
        "2. 第五位同學補考數學後成績為55，請計算補考後數學成績平均、最大值、最小值、標準差?\r\n",
        "3. 用補考後資料找出與國文成績相關係數最高的學科?"
      ]
    },
    {
      "cell_type": "code",
      "metadata": {
        "id": "QwsKU8qO-RK7"
      },
      "source": [
        "import numpy as np"
      ],
      "execution_count": 1,
      "outputs": []
    },
    {
      "cell_type": "code",
      "metadata": {
        "id": "B5BqDQAe_czh"
      },
      "source": [
        "english_score = np.array([55,89,76,65,48,70])\r\n",
        "math_score = np.array([60,85,60,68,np.nan,60])\r\n",
        "chinese_score = np.array([65,90,82,72,66,77])"
      ],
      "execution_count": 2,
      "outputs": []
    },
    {
      "cell_type": "code",
      "metadata": {
        "id": "K3tUA6u9aI3N",
        "colab": {
          "base_uri": "https://localhost:8080/"
        },
        "outputId": "778607f6-4f5c-4f66-e939-bb50b29e8c76"
      },
      "source": [
        "#1. 請計算各科成績平均、最大值、最小值、標準差，其中數學缺一筆資料可忽略?\r\n",
        "print(\"英文平均:\",np.mean(english_score))\r\n",
        "print(\"英文最大值:\",np.nanmax(english_score))\r\n",
        "print(\"英文最小值:\",np.nanmin(english_score))\r\n",
        "print(\"英文標準差:\",np.std(english_score))\r\n",
        "print(\"-------------------------------\")\r\n",
        "print(\"數學平均:\",np.nanmean(math_score))\r\n",
        "print(\"數學最大值:\",np.nanmax(math_score))\r\n",
        "print(\"數學最小值:\",np.nanmin(math_score))\r\n",
        "print(\"數學標準差:\",np.nanstd(math_score))\r\n",
        "print(\"-------------------------------\")\r\n",
        "print(\"國文平均:\",np.mean(chinese_score))\r\n",
        "print(\"國文最大值:\",np.nanmax(chinese_score))\r\n",
        "print(\"國文最小值:\",np.nanmin(chinese_score))\r\n",
        "print(\"國文標準差:\",np.std(chinese_score))"
      ],
      "execution_count": 27,
      "outputs": [
        {
          "output_type": "stream",
          "text": [
            "英文平均: 67.16666666666667\n",
            "英文最大值: 89\n",
            "英文最小值: 48\n",
            "英文標準差: 13.433995020924426\n",
            "-------------------------------\n",
            "數學平均: 66.6\n",
            "數學最大值: 85.0\n",
            "數學最小值: 60.0\n",
            "數學標準差: 9.707728879609279\n",
            "-------------------------------\n",
            "國文平均: 75.33333333333333\n",
            "國文最大值: 90\n",
            "國文最小值: 65\n",
            "國文標準差: 8.825468196582484\n"
          ],
          "name": "stdout"
        }
      ]
    },
    {
      "cell_type": "code",
      "metadata": {
        "id": "mXjDzvSrbLlf",
        "colab": {
          "base_uri": "https://localhost:8080/"
        },
        "outputId": "6e7e5e1b-993d-4890-af16-ece7b849ed88"
      },
      "source": [
        "#2. 第五位同學補考數學後成績為55，請計算補考後數學成績平均、最大值、最小值、標準差?\r\n",
        "math_score = np.array([60,85,60,68,55,60])\r\n",
        "print(\"補考後數學平均:\",np.nanmean(math_score))\r\n",
        "print(\"補考後數學最大值:\",np.nanmax(math_score))\r\n",
        "print(\"補考後數學最小值:\",np.nanmin(math_score))\r\n",
        "print(\"補考後數學標準差:\",np.nanstd(math_score))"
      ],
      "execution_count": 28,
      "outputs": [
        {
          "output_type": "stream",
          "text": [
            "補考後數學平均: 64.66666666666667\n",
            "補考後數學最大值: 85\n",
            "補考後數學最小值: 55\n",
            "補考後數學標準差: 9.860132971832694\n"
          ],
          "name": "stdout"
        }
      ]
    },
    {
      "cell_type": "code",
      "metadata": {
        "id": "SaGolKx0cKoU"
      },
      "source": [
        "#3. 用補考後資料找出與國文成績相關係數最高的學科?"
      ],
      "execution_count": null,
      "outputs": []
    }
  ]
}