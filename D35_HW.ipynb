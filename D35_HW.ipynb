{
  "nbformat": 4,
  "nbformat_minor": 0,
  "metadata": {
    "colab": {
      "name": "1.談資料科學與探索性分析(EDA)_作業.ipynb",
      "provenance": []
    },
    "kernelspec": {
      "display_name": "Python 3",
      "language": "python",
      "name": "python3"
    },
    "language_info": {
      "codemirror_mode": {
        "name": "ipython",
        "version": 3
      },
      "file_extension": ".py",
      "mimetype": "text/x-python",
      "name": "python",
      "nbconvert_exporter": "python",
      "pygments_lexer": "ipython3",
      "version": "3.6.1"
    }
  },
  "cells": [
    {
      "cell_type": "markdown",
      "metadata": {
        "id": "s32rCa6uabIj"
      },
      "source": [
        "## 作業:\n",
        "今天課程中以一個案例，說明資料分析的流程與探索性分析，是否對於課程中一開始的問題，更有想法了?!    \n",
        "Q1: 哪一個問題不適合用資料科學解決?   \n",
        "Q2: 以你的角度來分析，為什麼這樣的問題，較不適合用資料來解決?    \n",
        "將答案寫在論壇中，大家一起互相討論激盪。   \n",
        "![](作業圖檔.PNG)"
      ]
    },
    {
      "cell_type": "code",
      "metadata": {
        "colab": {
          "base_uri": "https://localhost:8080/",
          "height": 35
        },
        "id": "V6W4BGuQabIl",
        "outputId": "00d8ac9a-b8ab-461a-812e-0dac3411ddde"
      },
      "source": [
        "'''\n",
        "Ans1: 挑選Mr./Ms. Right\n",
        "Ans2: 人格特徵没有明確標準，難以預估。\n",
        "'''"
      ],
      "execution_count": 1,
      "outputs": [
        {
          "output_type": "execute_result",
          "data": {
            "application/vnd.google.colaboratory.intrinsic+json": {
              "type": "string"
            },
            "text/plain": [
              "'\\nAns1: 挑選Mr./Ms. Right\\nAns2: 人格特徵没有明確標準，難以預估。\\n'"
            ]
          },
          "metadata": {
            "tags": []
          },
          "execution_count": 1
        }
      ]
    }
  ]
}