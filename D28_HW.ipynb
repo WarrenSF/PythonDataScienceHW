{
  "nbformat": 4,
  "nbformat_minor": 0,
  "metadata": {
    "colab": {
      "name": "作業.ipynb",
      "provenance": []
    },
    "kernelspec": {
      "display_name": "Python 3",
      "language": "python",
      "name": "python3"
    },
    "language_info": {
      "codemirror_mode": {
        "name": "ipython",
        "version": 3
      },
      "file_extension": ".py",
      "mimetype": "text/x-python",
      "name": "python",
      "nbconvert_exporter": "python",
      "pygments_lexer": "ipython3",
      "version": "3.6.1"
    }
  },
  "cells": [
    {
      "cell_type": "markdown",
      "metadata": {
        "id": "n41PBITrfUlO"
      },
      "source": [
        "## 作業:\n",
        "今天學到2種分配，包含，   \n",
        "離散均勻分配( Discrete Uniform Distribution )   \n",
        "伯努利分配( Bernoulli Distribution )   \n",
        "\n",
        "今天我們透過作業中的問題，回想今天的內容吧!  "
      ]
    },
    {
      "cell_type": "markdown",
      "metadata": {
        "id": "r6fom80XfUlU"
      },
      "source": [
        "### 丟一個銅板，丟了100次，出現正面 50 次的機率有多大。\n",
        "(提示: 先想是哪一種分配，然後透過 python 語法進行計算)\n"
      ]
    },
    {
      "cell_type": "code",
      "metadata": {
        "id": "V7VRvEiIfUlV"
      },
      "source": [
        "import matplotlib.pyplot as plt\n",
        "import numpy as np\n",
        "from scipy import stats"
      ],
      "execution_count": 1,
      "outputs": []
    },
    {
      "cell_type": "code",
      "metadata": {
        "colab": {
          "base_uri": "https://localhost:8080/"
        },
        "id": "ryIKY90djZyE",
        "outputId": "72aac542-ed02-48ba-db5f-77dd6bf15bf6"
      },
      "source": [
        "p = 0.5  \n",
        "n = 100  #重複實驗100次\n",
        "r = np.arange(0,100) #可以出現的範圍為\n",
        "\n",
        "probs = stats.binom.pmf(r, n, p)\n",
        "print(probs[50])"
      ],
      "execution_count": 12,
      "outputs": [
        {
          "output_type": "stream",
          "text": [
            "0.07958923738717888\n"
          ],
          "name": "stdout"
        }
      ]
    },
    {
      "cell_type": "code",
      "metadata": {
        "colab": {
          "base_uri": "https://localhost:8080/",
          "height": 295
        },
        "id": "-oR7jhmYlOQV",
        "outputId": "c9d7d559-fffd-4e89-ea3d-1b471e220d32"
      },
      "source": [
        "plt.bar(r, probs)\n",
        "plt.ylabel('P(X=x)')\n",
        "plt.xlabel('x')\n",
        "plt.title('binomial(n=100,p=0.5)')\n",
        "plt.show()"
      ],
      "execution_count": 10,
      "outputs": [
        {
          "output_type": "display_data",
          "data": {
            "image/png": "[encoded data removed]",
            "text/plain": [
              "<Figure size 432x288 with 1 Axes>"
            ]
          },
          "metadata": {
            "tags": [],
            "needs_background": "light"
          }
        }
      ]
    }
  ]
}