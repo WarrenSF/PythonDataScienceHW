{
  "nbformat": 4,
  "nbformat_minor": 0,
  "metadata": {
    "colab": {
      "name": "D04作業題目.ipynb",
      "provenance": [],
      "collapsed_sections": [],
      "toc_visible": true
    },
    "kernelspec": {
      "name": "python3",
      "display_name": "Python 3"
    }
  },
  "cells": [
    {
      "cell_type": "code",
      "metadata": {
        "id": "J8gYBNBr2Ttc"
      },
      "source": [
        ""
      ],
      "execution_count": null,
      "outputs": []
    },
    {
      "cell_type": "markdown",
      "metadata": {
        "id": "XYM0mQCi2WTY"
      },
      "source": [
        "作業目標<br>\r\n",
        "熟悉邏輯運算<br>\r\n",
        "作業重點<br>\r\n",
        "五大類邏輯函式與其對應的函式操作"
      ]
    },
    {
      "cell_type": "markdown",
      "metadata": {
        "id": "-MPLt0EF2Zto"
      },
      "source": [
        "題目:<br>\r\n",
        "english_score = np.array([55,89,76,65,48,70])<br>\r\n",
        "math_score = np.array([60,85,60,68,55,60])<br>\r\n",
        "chinese_score = np.array([65,90,82,72,66,77])<br>\r\n",
        "上3列共六位同學的英文、數學、國文成績，第一個元素代表第一位同學，舉例第一位同學英文55分、數學60分、國文65分，運用上列數據回答下列問題。<br>\r\n",
        "1. 有多少學生英文成績比數學成績高?\r\n",
        "2. 是否全班同學最高分都是國文?\r\n",
        "\r\n",
        "\r\n"
      ]
    },
    {
      "cell_type": "code",
      "metadata": {
        "id": "owy7B7Us2ZEM"
      },
      "source": [
        "import numpy as np"
      ],
      "execution_count": null,
      "outputs": []
    },
    {
      "cell_type": "code",
      "metadata": {
        "id": "i0RGMNH72xkh",
        "colab": {
          "base_uri": "https://localhost:8080/"
        },
        "outputId": "05582986-8cc5-49d0-f8b2-d5dcb44f9bee"
      },
      "source": [
        "english_score=np.array([55,89,76,65,48,70])\r\n",
        "math_score = np.array([60,85,60,68,55,60])\r\n",
        "chinese_score = np.array([65,90,82,72,66,77])\r\n",
        "\r\n",
        "#1.有多少學生英文成績比數學成績高?\r\n",
        "a=np.greater(english_score,math_score)\r\n",
        "b=np.where(a==True,1,0)\r\n",
        "b.sum()"
      ],
      "execution_count": null,
      "outputs": [
        {
          "output_type": "execute_result",
          "data": {
            "text/plain": [
              "3"
            ]
          },
          "metadata": {
            "tags": []
          },
          "execution_count": 12
        }
      ]
    },
    {
      "cell_type": "code",
      "metadata": {
        "id": "F4Hzk1HM8pBZ",
        "colab": {
          "base_uri": "https://localhost:8080/"
        },
        "outputId": "4ca08d9d-da8c-4613-89dc-1bd789190ef1"
      },
      "source": [
        "#2.是否全班同學最高分都是國文?\r\n",
        "a=(np.greater(chinese_score,english_score),np.greater(chinese_score,math_score))\r\n",
        "np.all(a)"
      ],
      "execution_count": null,
      "outputs": [
        {
          "output_type": "execute_result",
          "data": {
            "text/plain": [
              "True"
            ]
          },
          "metadata": {
            "tags": []
          },
          "execution_count": 13
        }
      ]
    }
  ]
}